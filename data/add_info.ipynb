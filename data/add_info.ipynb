{
 "cells": [
  {
   "cell_type": "code",
   "execution_count": 1,
   "metadata": {},
   "outputs": [],
   "source": [
    "import pandas as pd"
   ]
  },
  {
   "cell_type": "markdown",
   "metadata": {},
   "source": [
    "### International classification of crime for statistical purposes (iccs)"
   ]
  },
  {
   "cell_type": "markdown",
   "metadata": {},
   "source": [
    "Final DataFrame for Further Use -> **iccs_df**"
   ]
  },
  {
   "cell_type": "code",
   "execution_count": 6,
   "metadata": {},
   "outputs": [],
   "source": [
    "iccs_dict = dict()\n",
    "\n",
    "# cteni a cisteni dat\n",
    "with open(r'iccs_data.txt', mode='r', encoding='utf-8') as iccs_file:\n",
    "    for raw_iccs_info in iccs_file:\n",
    "        clean_info = raw_iccs_info.strip().replace('[', '').split(']')\n",
    "         \n",
    "        iccs_code = clean_info[0]\n",
    "        crime_info = clean_info[1]\n",
    "        iccs_dict[iccs_code] = crime_info\n",
    "\n",
    "# prevod na dataframe\n",
    "iccs_df = pd.DataFrame.from_dict(iccs_dict, orient='index', columns=['crime_info']).reset_index()\n",
    "iccs_df.columns = ['iccs', 'crime_info']\n",
    "\n",
    "crime_categories = {\n",
    "    \"Intentional homicide\": \"Visible\",\n",
    "    \"Attempted intentional homicide\": \"Visible\",\n",
    "    \"Serious assault\": \"Visible\",\n",
    "    \"Kidnapping\": \"Visible\",\n",
    "    \"Sexual violence\": \"Sensitive\",\n",
    "    \"Rape\": \"Sensitive\",\n",
    "    \"Sexual assault\": \"Sensitive\",\n",
    "    \"Sexual exploitation\": \"Sensitive\",\n",
    "    \"Child pornography\": \"Sensitive\",\n",
    "    \"Robbery\": \"Visible\",\n",
    "    \"Burglary\": \"Visible\",\n",
    "    \"Burglary of private residential premises\": \"Visible\",\n",
    "    \"Theft\": \"Visible\",\n",
    "    \"Theft of a motorized vehicle or parts thereof\": \"Visible\",\n",
    "    \"Unlawful acts involving controlled drugs or precursors\": \"Hidden\",\n",
    "    \"Fraud\": \"Hidden\",\n",
    "    \"Corruption\": \"Hidden\",\n",
    "    \"Bribery\": \"Hidden\",\n",
    "    \"Money laundering\": \"Hidden\",\n",
    "    \"Acts against computer systems\": \"Hidden\",\n",
    "    \"Participation in an organized criminal group\": \"Hidden\"\n",
    "}\n",
    "iccs_df[\"category_crime\"] = iccs_df[\"crime_info\"].map(crime_categories)\n",
    "\n",
    "iccs_df.to_csv('iccs.csv', index=False)\n"
   ]
  },
  {
   "cell_type": "markdown",
   "metadata": {},
   "source": [
    "### Geopolitical entity (geo)"
   ]
  },
  {
   "cell_type": "markdown",
   "metadata": {},
   "source": [
    "Final DataFrame for Further Use -> **geo_df**"
   ]
  },
  {
   "cell_type": "code",
   "execution_count": 7,
   "metadata": {},
   "outputs": [],
   "source": [
    "geo_dict = dict()\n",
    "\n",
    "# cteni a cisteni dat\n",
    "with open(r'country_data.txt', mode='r', encoding='utf-8') as geo_file:\n",
    "    for raw_geo_info in geo_file:\n",
    "        clean_info = raw_geo_info.strip().replace('[', '').split(']')\n",
    "         \n",
    "        geo_code = clean_info[0]\n",
    "        country_info = clean_info[1]\n",
    "        geo_dict[geo_code] = country_info\n",
    "\n",
    "# prevod na dataframe\n",
    "geo_df = pd.DataFrame.from_dict(geo_dict, orient='index', columns=['country_name']).reset_index()\n",
    "geo_df.columns = ['geo', 'country_name']\n",
    "geo_df.to_csv('geo.csv', index=False)"
   ]
  },
  {
   "cell_type": "code",
   "execution_count": 6,
   "metadata": {},
   "outputs": [],
   "source": [
    "# TODO: prepsat kody do jedne vseobecne funkce\n",
    "# možno zaridit scrap primo ze stranek"
   ]
  }
 ],
 "metadata": {
  "kernelspec": {
   "display_name": "crime_EU_venv",
   "language": "python",
   "name": "python3"
  },
  "language_info": {
   "codemirror_mode": {
    "name": "ipython",
    "version": 3
   },
   "file_extension": ".py",
   "mimetype": "text/x-python",
   "name": "python",
   "nbconvert_exporter": "python",
   "pygments_lexer": "ipython3",
   "version": "3.12.2"
  }
 },
 "nbformat": 4,
 "nbformat_minor": 2
}
