{
 "cells": [
  {
   "cell_type": "code",
   "execution_count": 2,
   "metadata": {},
   "outputs": [],
   "source": [
    "import pandas as pd"
   ]
  },
  {
   "cell_type": "markdown",
   "metadata": {},
   "source": [
    "### International classification of crime for statistical purposes (iccs)"
   ]
  },
  {
   "cell_type": "markdown",
   "metadata": {},
   "source": [
    "Final DataFrame for Further Use -> **iccs_df**"
   ]
  },
  {
   "cell_type": "code",
   "execution_count": 3,
   "metadata": {},
   "outputs": [],
   "source": [
    "iccs_dict = dict()\n",
    "\n",
    "# cteni a cisteni dat\n",
    "with open('iccs_data.txt', mode='r', encoding='utf-8') as iccs_file:\n",
    "    for raw_iccs_info in iccs_file:\n",
    "        clean_info = raw_iccs_info.strip().replace('[', '').split(']')\n",
    "         \n",
    "        iccs_code = clean_info[0]\n",
    "        crime_info = clean_info[1]\n",
    "        iccs_dict[iccs_code] = crime_info\n",
    "\n",
    "# prevod na dataframe\n",
    "iccs_df = pd.DataFrame.from_dict(iccs_dict, orient='index', columns=['crime_info']).reset_index()\n",
    "iccs_df.columns = ['iccs', 'crime_info']"
   ]
  },
  {
   "cell_type": "markdown",
   "metadata": {},
   "source": [
    "### Geopolitical entity (geo)"
   ]
  },
  {
   "cell_type": "markdown",
   "metadata": {},
   "source": [
    "Final DataFrame for Further Use -> **geo_df**"
   ]
  },
  {
   "cell_type": "code",
   "execution_count": 5,
   "metadata": {},
   "outputs": [],
   "source": [
    "geo_dict = dict()\n",
    "\n",
    "# cteni a cisteni dat\n",
    "with open('country_data.txt', mode='r', encoding='utf-8') as geo_file:\n",
    "    for raw_geo_info in geo_file:\n",
    "        clean_info = raw_geo_info.strip().replace('[', '').split(']')\n",
    "         \n",
    "        geo_code = clean_info[0]\n",
    "        country_info = clean_info[1]\n",
    "        geo_dict[geo_code] = country_info\n",
    "\n",
    "# prevod na dataframe\n",
    "geo_df = pd.DataFrame.from_dict(geo_dict, orient='index', columns=['country_name']).reset_index()\n",
    "geo_df.columns = ['geo', 'country_name']"
   ]
  },
  {
   "cell_type": "code",
   "execution_count": 110,
   "metadata": {},
   "outputs": [],
   "source": [
    "# TODO: prepsat kody do jedne vseobecne funkce\n",
    "# možno zaridit scrap primo ze stranek"
   ]
  }
 ],
 "metadata": {
  "kernelspec": {
   "display_name": "crime_EU_venv",
   "language": "python",
   "name": "python3"
  },
  "language_info": {
   "codemirror_mode": {
    "name": "ipython",
    "version": 3
   },
   "file_extension": ".py",
   "mimetype": "text/x-python",
   "name": "python",
   "nbconvert_exporter": "python",
   "pygments_lexer": "ipython3",
   "version": "3.12.2"
  }
 },
 "nbformat": 4,
 "nbformat_minor": 2
}
