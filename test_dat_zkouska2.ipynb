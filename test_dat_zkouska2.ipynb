{
 "cells": [
  {
   "cell_type": "markdown",
   "metadata": {},
   "source": [
    "## Data manipulation"
   ]
  },
  {
   "cell_type": "code",
   "execution_count": 1,
   "metadata": {},
   "outputs": [],
   "source": [
    "import pandas as pd"
   ]
  },
  {
   "cell_type": "code",
   "execution_count": 2,
   "metadata": {},
   "outputs": [],
   "source": [
    "data = pd.read_csv(r'estat_crim_off_cat.tsv', sep='\\t')"
   ]
  },
  {
   "cell_type": "code",
   "execution_count": 3,
   "metadata": {},
   "outputs": [],
   "source": [
    "data = data.rename({data.columns[0]: data.columns[0].replace(r\"\\TIME_PERIOD\", \"\")}, axis=\"columns\")\n",
    "split_name_columns = (data.columns[0]).split(',')\n",
    "count_split_columns = len(split_name_columns)\n",
    "# assert?"
   ]
  },
  {
   "cell_type": "code",
   "execution_count": 4,
   "metadata": {},
   "outputs": [],
   "source": [
    "data[split_name_columns] = data[data.columns[0]].str.split(',', expand=True)\n",
    "data = data.drop(data.columns[0], axis=\"columns\") #odstraneni jiz rozdeleneho sloupce\n",
    "\n",
    "%run add_info.ipynb\n",
    "data = data.merge(geo_df, how='left', on='geo')\n",
    "data = data.merge(iccs_df, how='left', on='iccs')\n",
    "data = data.drop(columns=['geo', 'iccs'])\n"
   ]
  },
  {
   "cell_type": "code",
   "execution_count": 5,
   "metadata": {},
   "outputs": [],
   "source": [
    "# presun rozdelenych a naparovaných udaju  na zacatek df\n",
    "reorg_columns = data.columns.tolist()\n",
    "final_reorg_columns = reorg_columns[-count_split_columns:] + reorg_columns[:-count_split_columns]\n",
    "data = data[final_reorg_columns]"
   ]
  },
  {
   "cell_type": "code",
   "execution_count": 6,
   "metadata": {},
   "outputs": [],
   "source": [
    "data = data.replace(\": \", 'NaN')\n",
    "\n",
    "column_period = data.columns[count_split_columns:] \n",
    "data[column_period] = data[data.columns[count_split_columns:]].astype('float')"
   ]
  },
  {
   "cell_type": "code",
   "execution_count": 7,
   "metadata": {},
   "outputs": [],
   "source": [
    "no_anual = data[data['freq'] != 'A'].index # podminka, ze se nejedna o rocni data\n",
    "data.drop(index=no_anual, inplace=True)\n",
    "\n",
    "no_p_hthab = data[data['unit'] != 'P_HTHAB'].index # podminka, ze se nejedna o udaj na 100tis obyvatel\n",
    "data.drop(index=no_p_hthab, inplace=True)"
   ]
  },
  {
   "cell_type": "code",
   "execution_count": 8,
   "metadata": {},
   "outputs": [],
   "source": [
    "years_list = data.columns[count_split_columns:]\n",
    "info_list = data.columns[:count_split_columns]"
   ]
  },
  {
   "cell_type": "code",
   "execution_count": 9,
   "metadata": {},
   "outputs": [
    {
     "data": {
      "text/html": [
       "<div>\n",
       "<style scoped>\n",
       "    .dataframe tbody tr th:only-of-type {\n",
       "        vertical-align: middle;\n",
       "    }\n",
       "\n",
       "    .dataframe tbody tr th {\n",
       "        vertical-align: top;\n",
       "    }\n",
       "\n",
       "    .dataframe thead th {\n",
       "        text-align: right;\n",
       "    }\n",
       "</style>\n",
       "<table border=\"1\" class=\"dataframe\">\n",
       "  <thead>\n",
       "    <tr style=\"text-align: right;\">\n",
       "      <th></th>\n",
       "      <th>freq</th>\n",
       "      <th>unit</th>\n",
       "      <th>country_name</th>\n",
       "      <th>crime_info</th>\n",
       "      <th>year</th>\n",
       "      <th>value</th>\n",
       "    </tr>\n",
       "  </thead>\n",
       "  <tbody>\n",
       "    <tr>\n",
       "      <th>0</th>\n",
       "      <td>A</td>\n",
       "      <td>P_HTHAB</td>\n",
       "      <td>Albania</td>\n",
       "      <td>Intentional homicide</td>\n",
       "      <td>2008</td>\n",
       "      <td>2.78</td>\n",
       "    </tr>\n",
       "    <tr>\n",
       "      <th>1</th>\n",
       "      <td>A</td>\n",
       "      <td>P_HTHAB</td>\n",
       "      <td>Austria</td>\n",
       "      <td>Intentional homicide</td>\n",
       "      <td>2008</td>\n",
       "      <td>0.70</td>\n",
       "    </tr>\n",
       "    <tr>\n",
       "      <th>2</th>\n",
       "      <td>A</td>\n",
       "      <td>P_HTHAB</td>\n",
       "      <td>Bosnia and Herzegovina</td>\n",
       "      <td>Intentional homicide</td>\n",
       "      <td>2008</td>\n",
       "      <td>1.72</td>\n",
       "    </tr>\n",
       "    <tr>\n",
       "      <th>3</th>\n",
       "      <td>A</td>\n",
       "      <td>P_HTHAB</td>\n",
       "      <td>Belgium</td>\n",
       "      <td>Intentional homicide</td>\n",
       "      <td>2008</td>\n",
       "      <td>1.91</td>\n",
       "    </tr>\n",
       "    <tr>\n",
       "      <th>4</th>\n",
       "      <td>A</td>\n",
       "      <td>P_HTHAB</td>\n",
       "      <td>Bulgaria</td>\n",
       "      <td>Intentional homicide</td>\n",
       "      <td>2008</td>\n",
       "      <td>2.29</td>\n",
       "    </tr>\n",
       "    <tr>\n",
       "      <th>...</th>\n",
       "      <td>...</td>\n",
       "      <td>...</td>\n",
       "      <td>...</td>\n",
       "      <td>...</td>\n",
       "      <td>...</td>\n",
       "      <td>...</td>\n",
       "    </tr>\n",
       "    <tr>\n",
       "      <th>11605</th>\n",
       "      <td>A</td>\n",
       "      <td>P_HTHAB</td>\n",
       "      <td>Serbia</td>\n",
       "      <td>Participation in an organized criminal group</td>\n",
       "      <td>2022</td>\n",
       "      <td>NaN</td>\n",
       "    </tr>\n",
       "    <tr>\n",
       "      <th>11606</th>\n",
       "      <td>A</td>\n",
       "      <td>P_HTHAB</td>\n",
       "      <td>Slovenia</td>\n",
       "      <td>Participation in an organized criminal group</td>\n",
       "      <td>2022</td>\n",
       "      <td>0.00</td>\n",
       "    </tr>\n",
       "    <tr>\n",
       "      <th>11607</th>\n",
       "      <td>A</td>\n",
       "      <td>P_HTHAB</td>\n",
       "      <td>Slovakia</td>\n",
       "      <td>Participation in an organized criminal group</td>\n",
       "      <td>2022</td>\n",
       "      <td>0.15</td>\n",
       "    </tr>\n",
       "    <tr>\n",
       "      <th>11608</th>\n",
       "      <td>A</td>\n",
       "      <td>P_HTHAB</td>\n",
       "      <td>Türkiye</td>\n",
       "      <td>Participation in an organized criminal group</td>\n",
       "      <td>2022</td>\n",
       "      <td>NaN</td>\n",
       "    </tr>\n",
       "    <tr>\n",
       "      <th>11609</th>\n",
       "      <td>A</td>\n",
       "      <td>P_HTHAB</td>\n",
       "      <td>Kosovo*</td>\n",
       "      <td>Participation in an organized criminal group</td>\n",
       "      <td>2022</td>\n",
       "      <td>NaN</td>\n",
       "    </tr>\n",
       "  </tbody>\n",
       "</table>\n",
       "<p>11610 rows × 6 columns</p>\n",
       "</div>"
      ],
      "text/plain": [
       "      freq     unit            country_name  \\\n",
       "0        A  P_HTHAB                 Albania   \n",
       "1        A  P_HTHAB                 Austria   \n",
       "2        A  P_HTHAB  Bosnia and Herzegovina   \n",
       "3        A  P_HTHAB                 Belgium   \n",
       "4        A  P_HTHAB                Bulgaria   \n",
       "...    ...      ...                     ...   \n",
       "11605    A  P_HTHAB                  Serbia   \n",
       "11606    A  P_HTHAB                Slovenia   \n",
       "11607    A  P_HTHAB                Slovakia   \n",
       "11608    A  P_HTHAB                 Türkiye   \n",
       "11609    A  P_HTHAB                 Kosovo*   \n",
       "\n",
       "                                         crime_info  year  value  \n",
       "0                              Intentional homicide  2008   2.78  \n",
       "1                              Intentional homicide  2008   0.70  \n",
       "2                              Intentional homicide  2008   1.72  \n",
       "3                              Intentional homicide  2008   1.91  \n",
       "4                              Intentional homicide  2008   2.29  \n",
       "...                                             ...   ...    ...  \n",
       "11605  Participation in an organized criminal group  2022    NaN  \n",
       "11606  Participation in an organized criminal group  2022   0.00  \n",
       "11607  Participation in an organized criminal group  2022   0.15  \n",
       "11608  Participation in an organized criminal group  2022    NaN  \n",
       "11609  Participation in an organized criminal group  2022    NaN  \n",
       "\n",
       "[11610 rows x 6 columns]"
      ]
     },
     "execution_count": 9,
     "metadata": {},
     "output_type": "execute_result"
    }
   ],
   "source": [
    "unpivot_data = pd.melt(data, id_vars=info_list, value_vars=years_list, var_name='year', value_name='value')\n",
    "unpivot_data['year'] = unpivot_data['year'].astype('int')\n",
    "unpivot_data"
   ]
  },
  {
   "cell_type": "markdown",
   "metadata": {},
   "source": [
    "## Data visualisation"
   ]
  },
  {
   "cell_type": "code",
   "execution_count": null,
   "metadata": {},
   "outputs": [],
   "source": [
    "import matplotlib.pyplot as plt\n",
    "import ipywidgets as widgets\n",
    "from IPython.display import display\n",
    "%run custom_function.ipynb # widgety nelze spoustet ze souboru .py?, pouze z ipynb, dostatz widget hodnoy je pak složitější a delší, než napsatkod přímo? - overit"
   ]
  },
  {
   "cell_type": "code",
   "execution_count": 11,
   "metadata": {},
   "outputs": [],
   "source": [
    "country_list_sorted = sorted(list(set(unpivot_data['country_name'].tolist())))\n",
    "crime_list_sorted = sorted(list(set(unpivot_data['crime_info'].tolist())))"
   ]
  },
  {
   "cell_type": "code",
   "execution_count": 12,
   "metadata": {},
   "outputs": [],
   "source": [
    "country = widgets.Dropdown(\n",
    "    options=country_list_sorted,\n",
    "    value=country_list_sorted[0],\n",
    "    description='Country:',\n",
    "    disabled=False,\n",
    "    )\n",
    "crime = widgets.Dropdown(\n",
    "    options=crime_list_sorted,\n",
    "    value=crime_list_sorted[0],\n",
    "    description='Crime:',\n",
    "    disabled=False,\n",
    "    )"
   ]
  },
  {
   "cell_type": "code",
   "execution_count": 13,
   "metadata": {},
   "outputs": [
    {
     "data": {
      "application/vnd.jupyter.widget-view+json": {
       "model_id": "f8a877e0110641c081ee1aea182bb62a",
       "version_major": 2,
       "version_minor": 0
      },
      "text/plain": [
       "Dropdown(description='Country:', options=('Albania', 'Austria', 'Belgium', 'Bosnia and Herzegovina', 'Bulgaria…"
      ]
     },
     "metadata": {},
     "output_type": "display_data"
    },
    {
     "data": {
      "application/vnd.jupyter.widget-view+json": {
       "model_id": "28601eee5778481e8e19cc92e45e9b6f",
       "version_major": 2,
       "version_minor": 0
      },
      "text/plain": [
       "Dropdown(description='Crime:', options=('Acts against computer systems', 'Attempted intentional homicide', 'Br…"
      ]
     },
     "metadata": {},
     "output_type": "display_data"
    }
   ],
   "source": [
    "display(country)\n",
    "display(crime)"
   ]
  },
  {
   "cell_type": "code",
   "execution_count": 14,
   "metadata": {},
   "outputs": [
    {
     "data": {
      "text/plain": [
       "'During a 15-year period, Czechia recorded 15 entries for Intentional homicide types of crime. Across these years, there were an average of 0.75 crimes per hundred thousand inhabitants each year. The minimum recorded crime rate per hundred thousand inhabitants was 0.38, while the maximum was 1.09. These two values are not very far from the mean of 0.75.'"
      ]
     },
     "execution_count": 14,
     "metadata": {},
     "output_type": "execute_result"
    }
   ],
   "source": [
    "filtered_data, filtered_data_min_year, filtered_data_max_year = get_filtered_data(unpivot_data, country.value, crime.value)\n",
    "get_basic_filtered_info(filtered_data, country.value, crime.value)"
   ]
  },
  {
   "cell_type": "code",
   "execution_count": 16,
   "metadata": {},
   "outputs": [
    {
     "data": {
      "text/html": [
       "<div>\n",
       "<style scoped>\n",
       "    .dataframe tbody tr th:only-of-type {\n",
       "        vertical-align: middle;\n",
       "    }\n",
       "\n",
       "    .dataframe tbody tr th {\n",
       "        vertical-align: top;\n",
       "    }\n",
       "\n",
       "    .dataframe thead th {\n",
       "        text-align: right;\n",
       "    }\n",
       "</style>\n",
       "<table border=\"1\" class=\"dataframe\">\n",
       "  <thead>\n",
       "    <tr style=\"text-align: right;\">\n",
       "      <th></th>\n",
       "      <th>freq</th>\n",
       "      <th>unit</th>\n",
       "      <th>country_name</th>\n",
       "      <th>crime_info</th>\n",
       "      <th>year</th>\n",
       "      <th>value</th>\n",
       "    </tr>\n",
       "  </thead>\n",
       "  <tbody>\n",
       "    <tr>\n",
       "      <th>7</th>\n",
       "      <td>A</td>\n",
       "      <td>P_HTHAB</td>\n",
       "      <td>Czechia</td>\n",
       "      <td>Intentional homicide</td>\n",
       "      <td>2008</td>\n",
       "      <td>1.09</td>\n",
       "    </tr>\n",
       "    <tr>\n",
       "      <th>781</th>\n",
       "      <td>A</td>\n",
       "      <td>P_HTHAB</td>\n",
       "      <td>Czechia</td>\n",
       "      <td>Intentional homicide</td>\n",
       "      <td>2009</td>\n",
       "      <td>1.01</td>\n",
       "    </tr>\n",
       "    <tr>\n",
       "      <th>1555</th>\n",
       "      <td>A</td>\n",
       "      <td>P_HTHAB</td>\n",
       "      <td>Czechia</td>\n",
       "      <td>Intentional homicide</td>\n",
       "      <td>2010</td>\n",
       "      <td>1.00</td>\n",
       "    </tr>\n",
       "    <tr>\n",
       "      <th>2329</th>\n",
       "      <td>A</td>\n",
       "      <td>P_HTHAB</td>\n",
       "      <td>Czechia</td>\n",
       "      <td>Intentional homicide</td>\n",
       "      <td>2011</td>\n",
       "      <td>0.79</td>\n",
       "    </tr>\n",
       "    <tr>\n",
       "      <th>3103</th>\n",
       "      <td>A</td>\n",
       "      <td>P_HTHAB</td>\n",
       "      <td>Czechia</td>\n",
       "      <td>Intentional homicide</td>\n",
       "      <td>2012</td>\n",
       "      <td>0.90</td>\n",
       "    </tr>\n",
       "    <tr>\n",
       "      <th>3877</th>\n",
       "      <td>A</td>\n",
       "      <td>P_HTHAB</td>\n",
       "      <td>Czechia</td>\n",
       "      <td>Intentional homicide</td>\n",
       "      <td>2013</td>\n",
       "      <td>0.86</td>\n",
       "    </tr>\n",
       "    <tr>\n",
       "      <th>4651</th>\n",
       "      <td>A</td>\n",
       "      <td>P_HTHAB</td>\n",
       "      <td>Czechia</td>\n",
       "      <td>Intentional homicide</td>\n",
       "      <td>2014</td>\n",
       "      <td>0.77</td>\n",
       "    </tr>\n",
       "    <tr>\n",
       "      <th>5425</th>\n",
       "      <td>A</td>\n",
       "      <td>P_HTHAB</td>\n",
       "      <td>Czechia</td>\n",
       "      <td>Intentional homicide</td>\n",
       "      <td>2015</td>\n",
       "      <td>0.84</td>\n",
       "    </tr>\n",
       "    <tr>\n",
       "      <th>6199</th>\n",
       "      <td>A</td>\n",
       "      <td>P_HTHAB</td>\n",
       "      <td>Czechia</td>\n",
       "      <td>Intentional homicide</td>\n",
       "      <td>2016</td>\n",
       "      <td>0.62</td>\n",
       "    </tr>\n",
       "    <tr>\n",
       "      <th>6973</th>\n",
       "      <td>A</td>\n",
       "      <td>P_HTHAB</td>\n",
       "      <td>Czechia</td>\n",
       "      <td>Intentional homicide</td>\n",
       "      <td>2017</td>\n",
       "      <td>0.38</td>\n",
       "    </tr>\n",
       "    <tr>\n",
       "      <th>7747</th>\n",
       "      <td>A</td>\n",
       "      <td>P_HTHAB</td>\n",
       "      <td>Czechia</td>\n",
       "      <td>Intentional homicide</td>\n",
       "      <td>2018</td>\n",
       "      <td>0.52</td>\n",
       "    </tr>\n",
       "    <tr>\n",
       "      <th>8521</th>\n",
       "      <td>A</td>\n",
       "      <td>P_HTHAB</td>\n",
       "      <td>Czechia</td>\n",
       "      <td>Intentional homicide</td>\n",
       "      <td>2019</td>\n",
       "      <td>0.76</td>\n",
       "    </tr>\n",
       "    <tr>\n",
       "      <th>9295</th>\n",
       "      <td>A</td>\n",
       "      <td>P_HTHAB</td>\n",
       "      <td>Czechia</td>\n",
       "      <td>Intentional homicide</td>\n",
       "      <td>2020</td>\n",
       "      <td>0.53</td>\n",
       "    </tr>\n",
       "    <tr>\n",
       "      <th>10069</th>\n",
       "      <td>A</td>\n",
       "      <td>P_HTHAB</td>\n",
       "      <td>Czechia</td>\n",
       "      <td>Intentional homicide</td>\n",
       "      <td>2021</td>\n",
       "      <td>0.43</td>\n",
       "    </tr>\n",
       "    <tr>\n",
       "      <th>10843</th>\n",
       "      <td>A</td>\n",
       "      <td>P_HTHAB</td>\n",
       "      <td>Czechia</td>\n",
       "      <td>Intentional homicide</td>\n",
       "      <td>2022</td>\n",
       "      <td>0.75</td>\n",
       "    </tr>\n",
       "  </tbody>\n",
       "</table>\n",
       "</div>"
      ],
      "text/plain": [
       "      freq     unit country_name            crime_info  year  value\n",
       "7        A  P_HTHAB      Czechia  Intentional homicide  2008   1.09\n",
       "781      A  P_HTHAB      Czechia  Intentional homicide  2009   1.01\n",
       "1555     A  P_HTHAB      Czechia  Intentional homicide  2010   1.00\n",
       "2329     A  P_HTHAB      Czechia  Intentional homicide  2011   0.79\n",
       "3103     A  P_HTHAB      Czechia  Intentional homicide  2012   0.90\n",
       "3877     A  P_HTHAB      Czechia  Intentional homicide  2013   0.86\n",
       "4651     A  P_HTHAB      Czechia  Intentional homicide  2014   0.77\n",
       "5425     A  P_HTHAB      Czechia  Intentional homicide  2015   0.84\n",
       "6199     A  P_HTHAB      Czechia  Intentional homicide  2016   0.62\n",
       "6973     A  P_HTHAB      Czechia  Intentional homicide  2017   0.38\n",
       "7747     A  P_HTHAB      Czechia  Intentional homicide  2018   0.52\n",
       "8521     A  P_HTHAB      Czechia  Intentional homicide  2019   0.76\n",
       "9295     A  P_HTHAB      Czechia  Intentional homicide  2020   0.53\n",
       "10069    A  P_HTHAB      Czechia  Intentional homicide  2021   0.43\n",
       "10843    A  P_HTHAB      Czechia  Intentional homicide  2022   0.75"
      ]
     },
     "execution_count": 16,
     "metadata": {},
     "output_type": "execute_result"
    }
   ],
   "source": [
    "filtered_data.describe()\n",
    "filtered_data['year'].count()\n",
    "filtered_data['value'].mean()\n",
    "filtered_data\n"
   ]
  },
  {
   "cell_type": "code",
   "execution_count": 17,
   "metadata": {},
   "outputs": [],
   "source": [
    "# TODO: propojit widgetu s grafem, aby byl rovnou interaktivní, pozor na dublo, trublo grafů"
   ]
  },
  {
   "cell_type": "code",
   "execution_count": 18,
   "metadata": {},
   "outputs": [
    {
     "data": {
      "application/vnd.jupyter.widget-view+json": {
       "model_id": "0de3781ddb2a4448a465124095a2907b",
       "version_major": 2,
       "version_minor": 0
      },
      "text/plain": [
       "IntRangeSlider(value=(2008, 2022), continuous_update=False, description='Years:', max=2022, min=2008)"
      ]
     },
     "execution_count": 18,
     "metadata": {},
     "output_type": "execute_result"
    }
   ],
   "source": [
    "years_range = widgets.IntRangeSlider(\n",
    "    value=[filtered_data_min_year, filtered_data_max_year],\n",
    "    min=filtered_data_min_year,\n",
    "    max=filtered_data_max_year,\n",
    "    step=1,\n",
    "    description='Years:',\n",
    "    disabled=False,\n",
    "    continuous_update=False,\n",
    "    orientation='horizontal',\n",
    "    readout=True,   \n",
    "    readout_format='d',\n",
    "\n",
    ")\n",
    "years_range"
   ]
  },
  {
   "cell_type": "code",
   "execution_count": 19,
   "metadata": {},
   "outputs": [
    {
     "data": {
      "image/png": "[encoded data removed]",
      "text/plain": [
       "<Figure size 1000x600 with 1 Axes>"
      ]
     },
     "metadata": {},
     "output_type": "display_data"
    }
   ],
   "source": [
    "start_year, end_year = years_range.value\n",
    "plt.figure(figsize=(10, 6))\n",
    "plt.plot(filtered_data['year'], filtered_data['value'], marker='o')\n",
    "plt.title(f\"Time Series for {country.value} and crime: {crime.value}\")\n",
    "plt.xlabel(\"Year\")\n",
    "plt.ylabel(\"Value\")\n",
    "plt.grid(True)\n",
    "plt.xlim(start_year, end_year)\n",
    "plt.xticks(range(start_year, end_year + 1, 1))\n",
    "plt.show()"
   ]
  },
  {
   "cell_type": "code",
   "execution_count": null,
   "metadata": {},
   "outputs": [],
   "source": []
  }
 ],
 "metadata": {
  "kernelspec": {
   "display_name": "crime_EU_venv",
   "language": "python",
   "name": "python3"
  },
  "language_info": {
   "codemirror_mode": {
    "name": "ipython",
    "version": 3
   },
   "file_extension": ".py",
   "mimetype": "text/x-python",
   "name": "python",
   "nbconvert_exporter": "python",
   "pygments_lexer": "ipython3",
   "version": "3.12.2"
  }
 },
 "nbformat": 4,
 "nbformat_minor": 2
}
