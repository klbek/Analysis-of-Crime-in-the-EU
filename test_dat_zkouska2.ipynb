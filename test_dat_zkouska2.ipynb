{
 "cells": [
  {
   "cell_type": "markdown",
   "metadata": {},
   "source": [
    "## Data manipulation"
   ]
  },
  {
   "cell_type": "code",
   "execution_count": 1,
   "metadata": {},
   "outputs": [],
   "source": [
    "import pandas as pd"
   ]
  },
  {
   "cell_type": "code",
   "execution_count": 2,
   "metadata": {},
   "outputs": [],
   "source": [
    "import matplotlib.pyplot as plt\n",
    "import numpy\n",
    "import ipywidgets as widgets\n",
    "from IPython.display import display"
   ]
  },
  {
   "cell_type": "code",
   "execution_count": 33,
   "metadata": {},
   "outputs": [],
   "source": [
    "from dataclasses import dataclass\n",
    "\n",
    "@dataclass\n",
    "class Statistics:\n",
    "    count_years: int = None\n",
    "    count_fill_values: int = None\n",
    "    mean_value: float = None\n",
    "    median_value: float = None\n",
    "    max_value: int = None\n",
    "    max_value_year: int = None\n",
    "    min_value: float = None\n",
    "    min_value_year: float = None\n",
    "    standard_deviation: float = None\n",
    "    min_range_year: None = None\n",
    "    max_range_year: None = None # otázka zda používat, je to informace pro range widget\n",
    "    \n",
    "    def calculate_from_data(self, data, code):\n",
    "        if code == '1-1':\n",
    "            value_column = data['value']\n",
    "            \n",
    "            self.count_years = data['year'].count()\n",
    "            self.count_fill_values = value_column.count()\n",
    "            count_unfill_values = self.count_years - self.count_fill_values\n",
    "\n",
    "            self.mean_value = round(value_column.mean(), 2)\n",
    "            self.median_value = value_column.median()\n",
    "\n",
    "            max_value_row = data.loc[data['value'].idxmax()]\n",
    "            min_value_row = data.loc[data['value'].idxmin()]\n",
    "\n",
    "            self.max_value, self.max_value_year = max_value_row[['value', 'year']]\n",
    "            self.min_value, self.min_value_year = min_value_row[['value', 'year']]\n",
    "\n",
    "            # použita populační směrodatná odchylka, ddof=1 ->nastavení na výběrovou směrodatnou odchylku\n",
    "            self.standard_deviation = round(numpy.std(value_column), 2)\n",
    "\n",
    "            # TODO: nutno pořešit v rámci změny filtrování, např. pokud budu mít všechny země, tento údaj úplně nědává smysl, \n",
    "            self.min_range_year = data['year'].min() \n",
    "            self.max_range_year = data['year'].max()\n",
    "        elif code == '1-all':\n",
    "            pass\n",
    "        \n",
    "        elif code == 'all-1':\n",
    "            pass\n",
    "\n",
    "        elif code == 'all-all':\n",
    "            pass\n",
    "\n",
    "\n",
    "@dataclass\n",
    "class EurostatCrimeTable:\n",
    "    data: pd.DataFrame = None\n",
    "    country: str = None\n",
    "    crime: str = None\n",
    "    filtered_data: pd.DataFrame = None\n",
    "    filtered_code: None = None\n",
    "    statistics: Statistics = None\n",
    "    statistics_info: str = None\n",
    "    \n",
    "    def load_data(self, path):\n",
    "        data = pd.read_csv(path, sep='\\t')\n",
    "        \n",
    "        data = data.rename({data.columns[0]: data.columns[0].replace(r\"\\TIME_PERIOD\", \"\")}, axis=\"columns\")\n",
    "        split_name_columns = (data.columns[0]).split(',')\n",
    "        count_split_columns = len(split_name_columns)\n",
    "        data[split_name_columns] = data[data.columns[0]].str.split(',', expand=True)\n",
    "        data = data.drop(data.columns[0], axis=\"columns\") #odstraneni jiz rozdeleneho sloupce\n",
    "\n",
    "\n",
    "        %run data/add_info.ipynb\n",
    "        data = data.merge(geo_df, how='left', on='geo')\n",
    "        data = data.merge(iccs_df, how='left', on='iccs')\n",
    "        data = data.drop(columns=['geo', 'iccs'])\n",
    "\n",
    "        # presun rozdelenych a naparovaných udaju  na zacatek df\n",
    "        reorg_columns = data.columns.tolist()\n",
    "        final_reorg_columns = reorg_columns[-count_split_columns:] + reorg_columns[:-count_split_columns]\n",
    "        data = data[final_reorg_columns]\n",
    "\n",
    "        data = data.replace(\": \", 'NaN')\n",
    "\n",
    "        column_period = data.columns[count_split_columns:] \n",
    "        data[column_period] = data[data.columns[count_split_columns:]].astype('float')\n",
    "        \n",
    "        no_anual = data[data['freq'] != 'A'].index # podminka, ze se nejedna o rocni data\n",
    "        data.drop(index=no_anual, inplace=True)\n",
    "\n",
    "        no_p_hthab = data[data['unit'] != 'P_HTHAB'].index # podminka, ze se nejedna o udaj na 100tis obyvatel\n",
    "        data.drop(index=no_p_hthab, inplace=True)\n",
    "\n",
    "        years_list = data.columns[count_split_columns:]\n",
    "        info_list = data.columns[:count_split_columns]\n",
    "\n",
    "        unpivot_data = pd.melt(data, id_vars=info_list, value_vars=years_list, var_name='year', value_name='value')\n",
    "        unpivot_data['year'] = unpivot_data['year'].astype('int')\n",
    "        self.data = unpivot_data\n",
    "    \n",
    "\n",
    "    def filter_data(self, country, crime):\n",
    "        self.country = country\n",
    "        self.crime = crime\n",
    "\n",
    "        if country != 'all' and crime != 'all':\n",
    "            filtered_data = self.data[(self.data['country_name'] == country) & (self.data['crime_info'] == crime)]\n",
    "            self.filtered_data = filtered_data.sort_values(by='year', axis=0, ascending=True)\n",
    "            self.filtered_code = '1-1'\n",
    "\n",
    "        elif country != 'all' and crime == 'all':\n",
    "            self.filtered_data = self.data[self.data['country_name'] == country]\n",
    "            self.filtered_code = '1-all'\n",
    "\n",
    "        elif country == 'all' and crime != 'all':\n",
    "            self.filtered_data = self.data[self.data['crime_info'] == crime]\n",
    "            self.filtered_code = 'all-1'\n",
    "\n",
    "        elif country == 'all' and crime == 'all':\n",
    "            self.filtered_data = self.data\n",
    "            self.filtered_code = 'all-all'\n",
    "\n",
    "\n",
    "    def get_statistics(self):\n",
    "        data = self.filtered_data\n",
    "        code = self.filtered_code\n",
    "\n",
    "        stat = Statistics()\n",
    "        stat.calculate_from_data(data, code)\n",
    "        self.statistics = stat\n",
    "\n",
    "        self.statistics_info = f'During a {stat.count_years}-year period, {self.country} recorded {stat.count_fill_values} entries for {self.crime} types of crime. Across these years, there were an average of {stat.mean_value} crimes per hundred thousand inhabitants each year and standard deviation was {stat.standard_deviation}. The minimum recorded crime rate per hundred thousand inhabitants was {stat.min_value} in {stat.min_value_year}, while the maximum was {stat.max_value} in {stat.max_value_year}.'\n",
    "\n",
    "        pass # TODO: vyřešit info o státu/kriminalitě\n",
    "        # TODO: \n",
    "        # přidat dodatečné  informace o směrodané odchylně\n",
    "        # přidat info o násobku z min -> max aj\n",
    "        # od jakého roku začal stát poskytovat/sbírat data - zmenit automaticky range ve widgete\n",
    "        # vytvorit slovnik jako zaznamnik pro porovnani s ostatnimi zememi průmery, max, min v ráci tr. činnu\n",
    "      \n",
    "        \n",
    "    def __str__(self):\n",
    "        print(f'info {self.statistics}')\n"
   ]
  },
  {
   "cell_type": "code",
   "execution_count": 34,
   "metadata": {},
   "outputs": [],
   "source": [
    "CrimeData = EurostatCrimeTable()\n",
    "CrimeData.load_data(f'data/estat_crim_off_cat.tsv')\n"
   ]
  },
  {
   "cell_type": "code",
   "execution_count": 35,
   "metadata": {},
   "outputs": [],
   "source": [
    "country_list_sorted = sorted(list(set(CrimeData.data['country_name'].tolist())))\n",
    "country_list_sorted.insert(0, 'all')\n",
    "\n",
    "crime_list_sorted = sorted(list(set(CrimeData.data['crime_info'].tolist())))\n",
    "crime_list_sorted.insert(0, 'all')"
   ]
  },
  {
   "cell_type": "code",
   "execution_count": 36,
   "metadata": {},
   "outputs": [
    {
     "data": {
      "application/vnd.jupyter.widget-view+json": {
       "model_id": "09a8b1be90c4430d87eb21cd0ca7ff9a",
       "version_major": 2,
       "version_minor": 0
      },
      "text/plain": [
       "Dropdown(description='Country:', index=1, options=('all', 'Albania', 'Austria', 'Belgium', 'Bosnia and Herzego…"
      ]
     },
     "metadata": {},
     "output_type": "display_data"
    },
    {
     "data": {
      "application/vnd.jupyter.widget-view+json": {
       "model_id": "b6db26653b2c4357b8e70ea779a739d4",
       "version_major": 2,
       "version_minor": 0
      },
      "text/plain": [
       "Dropdown(description='Crime:', index=1, options=('all', 'Acts against computer systems', 'Attempted intentiona…"
      ]
     },
     "metadata": {},
     "output_type": "display_data"
    }
   ],
   "source": [
    "country = widgets.Dropdown(\n",
    "    options=country_list_sorted,\n",
    "    value=country_list_sorted[1],\n",
    "    description='Country:',\n",
    "    disabled=False,\n",
    "    )\n",
    "crime = widgets.Dropdown(\n",
    "    options=crime_list_sorted,\n",
    "    value=crime_list_sorted[1],\n",
    "    description='Crime:',\n",
    "    disabled=False,\n",
    "    )\n",
    "display(country)\n",
    "display(crime)"
   ]
  },
  {
   "cell_type": "code",
   "execution_count": 37,
   "metadata": {},
   "outputs": [],
   "source": [
    "select_country = country.value\n",
    "select_crime = crime.value"
   ]
  },
  {
   "cell_type": "code",
   "execution_count": 38,
   "metadata": {},
   "outputs": [
    {
     "data": {
      "text/plain": [
       "'France'"
      ]
     },
     "execution_count": 38,
     "metadata": {},
     "output_type": "execute_result"
    }
   ],
   "source": [
    "select_crime\n",
    "select_country"
   ]
  },
  {
   "cell_type": "code",
   "execution_count": 39,
   "metadata": {},
   "outputs": [],
   "source": [
    "CrimeData.filter_data(select_country, select_crime)\n"
   ]
  },
  {
   "cell_type": "code",
   "execution_count": 40,
   "metadata": {},
   "outputs": [
    {
     "data": {
      "text/html": [
       "<div>\n",
       "<style scoped>\n",
       "    .dataframe tbody tr th:only-of-type {\n",
       "        vertical-align: middle;\n",
       "    }\n",
       "\n",
       "    .dataframe tbody tr th {\n",
       "        vertical-align: top;\n",
       "    }\n",
       "\n",
       "    .dataframe thead th {\n",
       "        text-align: right;\n",
       "    }\n",
       "</style>\n",
       "<table border=\"1\" class=\"dataframe\">\n",
       "  <thead>\n",
       "    <tr style=\"text-align: right;\">\n",
       "      <th></th>\n",
       "      <th>freq</th>\n",
       "      <th>unit</th>\n",
       "      <th>country_name</th>\n",
       "      <th>crime_info</th>\n",
       "      <th>year</th>\n",
       "      <th>value</th>\n",
       "    </tr>\n",
       "  </thead>\n",
       "  <tbody>\n",
       "    <tr>\n",
       "      <th>628</th>\n",
       "      <td>A</td>\n",
       "      <td>P_HTHAB</td>\n",
       "      <td>France</td>\n",
       "      <td>Corruption</td>\n",
       "      <td>2008</td>\n",
       "      <td>NaN</td>\n",
       "    </tr>\n",
       "    <tr>\n",
       "      <th>1402</th>\n",
       "      <td>A</td>\n",
       "      <td>P_HTHAB</td>\n",
       "      <td>France</td>\n",
       "      <td>Corruption</td>\n",
       "      <td>2009</td>\n",
       "      <td>NaN</td>\n",
       "    </tr>\n",
       "    <tr>\n",
       "      <th>2176</th>\n",
       "      <td>A</td>\n",
       "      <td>P_HTHAB</td>\n",
       "      <td>France</td>\n",
       "      <td>Corruption</td>\n",
       "      <td>2010</td>\n",
       "      <td>NaN</td>\n",
       "    </tr>\n",
       "    <tr>\n",
       "      <th>2950</th>\n",
       "      <td>A</td>\n",
       "      <td>P_HTHAB</td>\n",
       "      <td>France</td>\n",
       "      <td>Corruption</td>\n",
       "      <td>2011</td>\n",
       "      <td>NaN</td>\n",
       "    </tr>\n",
       "    <tr>\n",
       "      <th>3724</th>\n",
       "      <td>A</td>\n",
       "      <td>P_HTHAB</td>\n",
       "      <td>France</td>\n",
       "      <td>Corruption</td>\n",
       "      <td>2012</td>\n",
       "      <td>NaN</td>\n",
       "    </tr>\n",
       "    <tr>\n",
       "      <th>4498</th>\n",
       "      <td>A</td>\n",
       "      <td>P_HTHAB</td>\n",
       "      <td>France</td>\n",
       "      <td>Corruption</td>\n",
       "      <td>2013</td>\n",
       "      <td>NaN</td>\n",
       "    </tr>\n",
       "    <tr>\n",
       "      <th>5272</th>\n",
       "      <td>A</td>\n",
       "      <td>P_HTHAB</td>\n",
       "      <td>France</td>\n",
       "      <td>Corruption</td>\n",
       "      <td>2014</td>\n",
       "      <td>NaN</td>\n",
       "    </tr>\n",
       "    <tr>\n",
       "      <th>6046</th>\n",
       "      <td>A</td>\n",
       "      <td>P_HTHAB</td>\n",
       "      <td>France</td>\n",
       "      <td>Corruption</td>\n",
       "      <td>2015</td>\n",
       "      <td>NaN</td>\n",
       "    </tr>\n",
       "    <tr>\n",
       "      <th>6820</th>\n",
       "      <td>A</td>\n",
       "      <td>P_HTHAB</td>\n",
       "      <td>France</td>\n",
       "      <td>Corruption</td>\n",
       "      <td>2016</td>\n",
       "      <td>3.01</td>\n",
       "    </tr>\n",
       "    <tr>\n",
       "      <th>7594</th>\n",
       "      <td>A</td>\n",
       "      <td>P_HTHAB</td>\n",
       "      <td>France</td>\n",
       "      <td>Corruption</td>\n",
       "      <td>2017</td>\n",
       "      <td>2.94</td>\n",
       "    </tr>\n",
       "    <tr>\n",
       "      <th>8368</th>\n",
       "      <td>A</td>\n",
       "      <td>P_HTHAB</td>\n",
       "      <td>France</td>\n",
       "      <td>Corruption</td>\n",
       "      <td>2018</td>\n",
       "      <td>3.52</td>\n",
       "    </tr>\n",
       "    <tr>\n",
       "      <th>9142</th>\n",
       "      <td>A</td>\n",
       "      <td>P_HTHAB</td>\n",
       "      <td>France</td>\n",
       "      <td>Corruption</td>\n",
       "      <td>2019</td>\n",
       "      <td>3.57</td>\n",
       "    </tr>\n",
       "    <tr>\n",
       "      <th>9916</th>\n",
       "      <td>A</td>\n",
       "      <td>P_HTHAB</td>\n",
       "      <td>France</td>\n",
       "      <td>Corruption</td>\n",
       "      <td>2020</td>\n",
       "      <td>3.40</td>\n",
       "    </tr>\n",
       "    <tr>\n",
       "      <th>10690</th>\n",
       "      <td>A</td>\n",
       "      <td>P_HTHAB</td>\n",
       "      <td>France</td>\n",
       "      <td>Corruption</td>\n",
       "      <td>2021</td>\n",
       "      <td>4.04</td>\n",
       "    </tr>\n",
       "    <tr>\n",
       "      <th>11464</th>\n",
       "      <td>A</td>\n",
       "      <td>P_HTHAB</td>\n",
       "      <td>France</td>\n",
       "      <td>Corruption</td>\n",
       "      <td>2022</td>\n",
       "      <td>3.69</td>\n",
       "    </tr>\n",
       "  </tbody>\n",
       "</table>\n",
       "</div>"
      ],
      "text/plain": [
       "      freq     unit country_name  crime_info  year  value\n",
       "628      A  P_HTHAB       France  Corruption  2008    NaN\n",
       "1402     A  P_HTHAB       France  Corruption  2009    NaN\n",
       "2176     A  P_HTHAB       France  Corruption  2010    NaN\n",
       "2950     A  P_HTHAB       France  Corruption  2011    NaN\n",
       "3724     A  P_HTHAB       France  Corruption  2012    NaN\n",
       "4498     A  P_HTHAB       France  Corruption  2013    NaN\n",
       "5272     A  P_HTHAB       France  Corruption  2014    NaN\n",
       "6046     A  P_HTHAB       France  Corruption  2015    NaN\n",
       "6820     A  P_HTHAB       France  Corruption  2016   3.01\n",
       "7594     A  P_HTHAB       France  Corruption  2017   2.94\n",
       "8368     A  P_HTHAB       France  Corruption  2018   3.52\n",
       "9142     A  P_HTHAB       France  Corruption  2019   3.57\n",
       "9916     A  P_HTHAB       France  Corruption  2020   3.40\n",
       "10690    A  P_HTHAB       France  Corruption  2021   4.04\n",
       "11464    A  P_HTHAB       France  Corruption  2022   3.69"
      ]
     },
     "execution_count": 40,
     "metadata": {},
     "output_type": "execute_result"
    }
   ],
   "source": [
    "select_filter = CrimeData.filtered_data\n",
    "select_filter"
   ]
  },
  {
   "cell_type": "code",
   "execution_count": 41,
   "metadata": {},
   "outputs": [],
   "source": [
    "CrimeData.get_statistics()"
   ]
  },
  {
   "cell_type": "code",
   "execution_count": 42,
   "metadata": {},
   "outputs": [
    {
     "data": {
      "text/plain": [
       "'During a 15-year period, France recorded 7 entries for Corruption types of crime. Across these years, there were an average of 3.45 crimes per hundred thousand inhabitants each year and standard deviation was 0.35. The minimum recorded crime rate per hundred thousand inhabitants was 2.94 in 2017, while the maximum was 4.04 in 2021.'"
      ]
     },
     "execution_count": 42,
     "metadata": {},
     "output_type": "execute_result"
    }
   ],
   "source": [
    "CrimeData.statistics.max_value_year\n",
    "CrimeData.statistics_info"
   ]
  },
  {
   "cell_type": "code",
   "execution_count": 43,
   "metadata": {},
   "outputs": [
    {
     "data": {
      "text/plain": [
       "np.float64(0.35)"
      ]
     },
     "execution_count": 43,
     "metadata": {},
     "output_type": "execute_result"
    }
   ],
   "source": [
    "CrimeData.statistics.standard_deviation"
   ]
  },
  {
   "cell_type": "code",
   "execution_count": 44,
   "metadata": {},
   "outputs": [
    {
     "data": {
      "text/plain": [
       "np.float64(3.45)"
      ]
     },
     "execution_count": 44,
     "metadata": {},
     "output_type": "execute_result"
    }
   ],
   "source": [
    "CrimeData.statistics.mean_value"
   ]
  },
  {
   "cell_type": "markdown",
   "metadata": {},
   "source": [
    "## Data visualisation"
   ]
  },
  {
   "cell_type": "code",
   "execution_count": 45,
   "metadata": {},
   "outputs": [],
   "source": [
    "# TODO: propojit widgetu s grafem, aby byl rovnou interaktivní, pozor na dublo, trublo grafů"
   ]
  },
  {
   "cell_type": "code",
   "execution_count": 46,
   "metadata": {},
   "outputs": [
    {
     "data": {
      "application/vnd.jupyter.widget-view+json": {
       "model_id": "40a1dfe6de064e87857dcf47a810722d",
       "version_major": 2,
       "version_minor": 0
      },
      "text/plain": [
       "IntRangeSlider(value=(2008, 2022), continuous_update=False, description='Years:', max=2022, min=2008)"
      ]
     },
     "execution_count": 46,
     "metadata": {},
     "output_type": "execute_result"
    }
   ],
   "source": [
    "years_range = widgets.IntRangeSlider(\n",
    "    value=[CrimeData.statistics.min_range_year, CrimeData.statistics.max_range_year],\n",
    "    min=CrimeData.statistics.min_range_year,\n",
    "    max=CrimeData.statistics.max_range_year,\n",
    "    step=1,\n",
    "    description='Years:',\n",
    "    disabled=False,\n",
    "    continuous_update=False,\n",
    "    orientation='horizontal',\n",
    "    readout=True,   \n",
    "    readout_format='d',\n",
    "\n",
    ")\n",
    "years_range"
   ]
  },
  {
   "cell_type": "code",
   "execution_count": 47,
   "metadata": {},
   "outputs": [
    {
     "data": {
      "image/png": "[encoded data removed]",
      "text/plain": [
       "<Figure size 1000x600 with 1 Axes>"
      ]
     },
     "metadata": {},
     "output_type": "display_data"
    }
   ],
   "source": [
    "start_year, end_year = years_range.value\n",
    "plt.figure(figsize=(10, 6))\n",
    "plt.plot(CrimeData.filtered_data['year'], CrimeData.filtered_data['value'], marker='o')\n",
    "plt.title(f\"Time Series for {country.value} and crime: {crime.value}\")\n",
    "plt.xlabel(\"Year\")\n",
    "plt.ylabel(\"Value\")\n",
    "plt.grid(True)\n",
    "plt.xlim(start_year, end_year)\n",
    "plt.xticks(range(start_year, end_year + 1, 1))\n",
    "plt.show()"
   ]
  },
  {
   "cell_type": "code",
   "execution_count": 48,
   "metadata": {},
   "outputs": [
    {
     "data": {
      "image/png": "[encoded data removed]",
      "text/plain": [
       "<Figure size 640x480 with 1 Axes>"
      ]
     },
     "metadata": {},
     "output_type": "display_data"
    }
   ],
   "source": [
    "plt.boxplot(CrimeData.filtered_data['value'].dropna(), vert=False, showfliers=True)\n",
    "plt.xlabel('PHTIH')\n",
    "plt.title('Boxplot...')\n",
    "\n",
    "# Show plot\n",
    "plt.show()"
   ]
  },
  {
   "cell_type": "code",
   "execution_count": 49,
   "metadata": {},
   "outputs": [
    {
     "data": {
      "image/png": "[encoded data removed]",
      "text/plain": [
       "<Figure size 640x480 with 1 Axes>"
      ]
     },
     "metadata": {},
     "output_type": "display_data"
    }
   ],
   "source": [
    "# import seaborn as sns\n",
    "# sns.histplot(CrimeData.filtered_data['value'], bins=6, kde=True)\n",
    "plt.hist(CrimeData.filtered_data['value'], bins=6, edgecolor='black', alpha=0.7)\n",
    "\n",
    "# Přidání názvů a popisků\n",
    "plt.title('Histogram hodnot')\n",
    "plt.xlabel('Hodnota')\n",
    "plt.ylabel('Frekvence')\n",
    "\n",
    "# Mean line\n",
    "plt.axvline(CrimeData.statistics.mean_value, color = 'red', linestyle='dashed', linewidth=1)\n",
    "plt.text(CrimeData.statistics.mean_value, plt.ylim()[1]*0.9, f'Mean: {CrimeData.statistics.mean_value:.2f}', color = 'red')\n",
    "\n",
    "# Median line\n",
    "plt.axvline(CrimeData.statistics.median_value, color='blue', linestyle='dashed', linewidth=1)\n",
    "plt.text(CrimeData.statistics.median_value, plt.ylim()[1]*0.8, f'Median: {CrimeData.statistics.median_value:.2f}', color='blue')\n",
    "\n",
    "\n",
    "\n",
    "# Zobrazení grafu\n",
    "plt.show()"
   ]
  },
  {
   "cell_type": "code",
   "execution_count": null,
   "metadata": {},
   "outputs": [],
   "source": []
  }
 ],
 "metadata": {
  "kernelspec": {
   "display_name": "crime_EU_venv",
   "language": "python",
   "name": "python3"
  },
  "language_info": {
   "codemirror_mode": {
    "name": "ipython",
    "version": 3
   },
   "file_extension": ".py",
   "mimetype": "text/x-python",
   "name": "python",
   "nbconvert_exporter": "python",
   "pygments_lexer": "ipython3",
   "version": "3.12.2"
  }
 },
 "nbformat": 4,
 "nbformat_minor": 2
}
