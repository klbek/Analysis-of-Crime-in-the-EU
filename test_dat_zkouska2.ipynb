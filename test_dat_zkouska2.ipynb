{
 "cells": [
  {
   "cell_type": "code",
   "execution_count": 13,
   "metadata": {},
   "outputs": [],
   "source": [
    "import pandas as pd"
   ]
  },
  {
   "cell_type": "code",
   "execution_count": 14,
   "metadata": {},
   "outputs": [],
   "source": [
    "data = pd.read_csv(r'estat_crim_off_cat.tsv', sep='\\t')"
   ]
  },
  {
   "cell_type": "code",
   "execution_count": 15,
   "metadata": {},
   "outputs": [],
   "source": [
    "# data.head(10)"
   ]
  },
  {
   "cell_type": "code",
   "execution_count": 16,
   "metadata": {},
   "outputs": [
    {
     "data": {
      "text/plain": [
       "'freq,iccs,unit,geo\\\\TIME_PERIOD'"
      ]
     },
     "execution_count": 16,
     "metadata": {},
     "output_type": "execute_result"
    }
   ],
   "source": [
    "# data.tail(10)\n",
    "data.columns[0]"
   ]
  },
  {
   "cell_type": "code",
   "execution_count": 17,
   "metadata": {},
   "outputs": [],
   "source": [
    "data2 = data.rename({data.columns[0]: data.columns[0].replace(r\"\\TIME_PERIOD\", \"\")}, axis=\"columns\") #.str.replace(r\"\\\"), inplace=True\n",
    "data2\n",
    "split_name_columns = (data2.columns[0]).split(',')\n",
    "count_columns = len(split_name_columns)"
   ]
  },
  {
   "cell_type": "code",
   "execution_count": 18,
   "metadata": {},
   "outputs": [],
   "source": [
    "data2[split_name_columns] = data2[data2.columns[0]].str.split(',', expand=True)\n",
    "data2 = data2.drop(data2.columns[0], axis=\"columns\") #odstraneni jiz rozdeleneho sloupce\n",
    "\n",
    "# presun rozdelenych udaju na zacatek df\n",
    "reorg_columns = data2.columns.tolist()\n",
    "change_columns = reorg_columns[-count_columns:] + reorg_columns[:-count_columns]\n",
    "data2=data2[change_columns]"
   ]
  },
  {
   "cell_type": "code",
   "execution_count": 19,
   "metadata": {},
   "outputs": [],
   "source": [
    "data2 = data2.replace(\": \", 'NaN')"
   ]
  },
  {
   "cell_type": "code",
   "execution_count": 22,
   "metadata": {},
   "outputs": [
    {
     "name": "stdout",
     "output_type": "stream",
     "text": [
      "<class 'pandas.core.frame.DataFrame'>\n",
      "RangeIndex: 1558 entries, 0 to 1557\n",
      "Data columns (total 19 columns):\n",
      " #   Column  Non-Null Count  Dtype \n",
      "---  ------  --------------  ----- \n",
      " 0   freq    1558 non-null   object\n",
      " 1   iccs    1558 non-null   object\n",
      " 2   unit    1558 non-null   object\n",
      " 3   geo     1558 non-null   object\n",
      " 4   2008    1558 non-null   object\n",
      " 5   2009    1558 non-null   object\n",
      " 6   2010    1558 non-null   object\n",
      " 7   2011    1558 non-null   object\n",
      " 8   2012    1558 non-null   object\n",
      " 9   2013    1558 non-null   object\n",
      " 10  2014    1558 non-null   object\n",
      " 11  2015    1558 non-null   object\n",
      " 12  2016    1558 non-null   object\n",
      " 13  2017    1558 non-null   object\n",
      " 14  2018    1558 non-null   object\n",
      " 15  2019    1558 non-null   object\n",
      " 16  2020    1558 non-null   object\n",
      " 17  2021    1558 non-null   object\n",
      " 18  2022    1558 non-null   object\n",
      "dtypes: object(19)\n",
      "memory usage: 231.4+ KB\n"
     ]
    },
    {
     "data": {
      "text/plain": [
       "freq     object\n",
       "iccs     object\n",
       "unit     object\n",
       "geo      object\n",
       "2008     object\n",
       "2009     object\n",
       "2010     object\n",
       "2011     object\n",
       "2012     object\n",
       "2013     object\n",
       "2014     object\n",
       "2015     object\n",
       "2016     object\n",
       "2017     object\n",
       "2018     object\n",
       "2019     object\n",
       "2020     object\n",
       "2021     object\n",
       "2022     object\n",
       "dtype: object"
      ]
     },
     "execution_count": 22,
     "metadata": {},
     "output_type": "execute_result"
    }
   ],
   "source": [
    "# data2.info()\n",
    "# data2.dtypes\n"
   ]
  },
  {
   "cell_type": "code",
   "execution_count": 21,
   "metadata": {},
   "outputs": [],
   "source": [
    "# vyměnit ':' za NaN\n",
    "# přetypovat sloupce na čísla\n",
    "# souhrn informaci, o jaká data se v každém souboru jedná? jestli se jedná jen o Anual data, jaké trestne ciny, unity a pod"
   ]
  },
  {
   "cell_type": "code",
   "execution_count": null,
   "metadata": {},
   "outputs": [],
   "source": []
  }
 ],
 "metadata": {
  "kernelspec": {
   "display_name": ".venv",
   "language": "python",
   "name": "python3"
  },
  "language_info": {
   "codemirror_mode": {
    "name": "ipython",
    "version": 3
   },
   "file_extension": ".py",
   "mimetype": "text/x-python",
   "name": "python",
   "nbconvert_exporter": "python",
   "pygments_lexer": "ipython3",
   "version": "3.12.2"
  }
 },
 "nbformat": 4,
 "nbformat_minor": 2
}
