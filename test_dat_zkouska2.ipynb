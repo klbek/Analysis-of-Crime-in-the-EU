{
 "cells": [
  {
   "cell_type": "markdown",
   "metadata": {},
   "source": [
    "## Data manipulation"
   ]
  },
  {
   "cell_type": "code",
   "execution_count": 12,
   "metadata": {},
   "outputs": [],
   "source": [
    "import pandas as pd"
   ]
  },
  {
   "cell_type": "code",
   "execution_count": 13,
   "metadata": {},
   "outputs": [],
   "source": [
    "import matplotlib.pyplot as plt\n",
    "import numpy\n",
    "import ipywidgets as widgets\n",
    "from IPython.display import display"
   ]
  },
  {
   "cell_type": "code",
   "execution_count": 14,
   "metadata": {},
   "outputs": [],
   "source": [
    "geo_df = pd.read_csv(r'data\\geo.csv')\n",
    "iccs_df = pd.read_csv(r'data\\iccs.csv')"
   ]
  },
  {
   "cell_type": "code",
   "execution_count": 15,
   "metadata": {},
   "outputs": [],
   "source": [
    "from dataclasses import dataclass\n",
    "\n",
    "@dataclass\n",
    "class Statistics:\n",
    "    count_years: int = numpy.nan\n",
    "    count_fill_values: int = numpy.nan\n",
    "    first_fill_year: int = numpy.nan\n",
    "    last_fill_year: int = numpy.nan\n",
    "    mean_value: float = numpy.nan\n",
    "    median_value: float = numpy.nan\n",
    "    max_value: int = numpy.nan\n",
    "    max_value_year: int = numpy.nan\n",
    "    min_value: float = numpy.nan\n",
    "    min_value_year: float = numpy.nan\n",
    "    standard_deviation: float = numpy.nan\n",
    "    quality_range_fill_data: int = numpy.nan\n",
    "    quality_range_unfill_data: int = numpy.nan\n",
    "    quality_data_info: str = numpy.nan\n",
    "    min_range_year: int = numpy.nan\n",
    "    max_range_year: int = numpy.nan # otázka zda používat, je to informace pro range widget\n",
    "    statistics_dictionary: dict = None\n",
    "    \n",
    "    def get_statistics_dict_info(self):\n",
    "        self.statistics_dictionary = {\n",
    "            'count_years': self.count_years,\n",
    "            'count_fill_values': self.count_fill_values,            \n",
    "            'first_fill_year': self.first_fill_year,\n",
    "            'last_fill_year': self.last_fill_year,\n",
    "            'mean_value': self.mean_value,\n",
    "            'median_value': self.median_value,\n",
    "            'max_value': self.max_value,\n",
    "            'max_value_year': self.max_value_year,\n",
    "            'min_value': self.min_value,\n",
    "            'min_value_year': self.min_value_year,\n",
    "            'standard_deviation': self.standard_deviation,\n",
    "            'quality_range_fill_data': self.quality_range_fill_data,\n",
    "            'quality_range_unfill_data': self.quality_range_unfill_data,\n",
    "            'quality_data_info': self.quality_data_info, \n",
    "            'min_range_year': self.min_range_year,\n",
    "            'max_range_year': self.max_range_year\n",
    "        }\n",
    "        # return statistics_dictionary\n",
    "        \n",
    "\n",
    "    def get_quality_data(self, data = None, idx_first_fill_year = None, idx_last_fill_year = None):\n",
    "        if self.count_fill_values == 0:\n",
    "            self.quality_data_info = f'No record for crime.'\n",
    "\n",
    "        elif self.count_fill_values == 1:\n",
    "            self.quality_data_info = f'Only 1 record for crime.'\n",
    "           \n",
    "        else:\n",
    "            count_fill_values_range = data[idx_first_fill_year:(idx_last_fill_year + 1)]['value'].count()\n",
    "            count_fill_year_range = data[idx_first_fill_year:(idx_last_fill_year + 1)]['year'].count()\n",
    "            self.quality_range_fill_data = count_fill_year_range\n",
    "            self.quality_range_unfill_data = count_fill_year_range - count_fill_values_range\n",
    "\n",
    "            if count_fill_values_range == count_fill_year_range:\n",
    "                self.quality_data_info = 'The time series has no missing values within the data disclosure period.'\n",
    "            else:\n",
    "                number = count_fill_year_range - count_fill_values_range\n",
    "                self.quality_data_info = f'The time series has {number} missing value(s) within the data disclosure period.'\n",
    "\n",
    "            \n",
    "\n",
    "    def calculate_from_data(self, data, code):\n",
    "        if code != '1-1': # prozatimni ponechani, aby si clovek mohl filtroval tabulku, jak potrebuje\n",
    "            self.quality_data_info = f'No statistics for this filtered data.'\n",
    "\n",
    "        else:\n",
    "            value_column = data['value']\n",
    "            year_column = data['year']\n",
    "\n",
    "            self.count_years = year_column.count()\n",
    "            self.count_fill_values = value_column.count()\n",
    "\n",
    "            if value_column.count() > 1:\n",
    "                idx_first_fill_year = value_column.first_valid_index()\n",
    "                self.first_fill_year = year_column[idx_first_fill_year]\n",
    "\n",
    "                idx_last_fill_year = value_column.last_valid_index()\n",
    "                self.last_fill_year = year_column[idx_last_fill_year]\n",
    "               \n",
    "                self.mean_value = round(value_column.mean(), 2)\n",
    "                self.median_value = value_column.median()\n",
    "\n",
    "                max_value_row = data.loc[data['value'].idxmax()]\n",
    "                min_value_row = data.loc[data['value'].idxmin()]\n",
    "\n",
    "                self.max_value, self.max_value_year = max_value_row[['value', 'year']]\n",
    "                self.min_value, self.min_value_year = min_value_row[['value', 'year']]\n",
    "\n",
    "                # použita populační směrodatná odchylka, ddof=1 ->nastavení na výběrovou směrodatnou odchylku\n",
    "                self.standard_deviation = round(numpy.std(value_column), 2)\n",
    "                \n",
    "                self.get_quality_data(data, idx_first_fill_year, idx_last_fill_year)\n",
    "                self.get_statistics_dict_info()\n",
    "                    \n",
    "\n",
    "                # TODO: nutno pořešit v rámci změny filtrování, např. pokud budu mít všechny země, tento údaj úplně nědává smysl, \n",
    "                self.min_range_year = year_column.min() \n",
    "                self.max_range_year = year_column.max()\n",
    "\n",
    "            elif value_column.count() == 1:\n",
    "                self.min_value = data.loc[idx_first_fill_year, 'value']\n",
    "                self.min_value_year = data.loc[idx_first_fill_year, 'year']\n",
    "                self.get_quality_data(data)\n",
    "                self.get_statistics_dict_info()\n",
    "                \n",
    "            else:\n",
    "                self.get_quality_data(data)\n",
    "                self.get_statistics_dict_info()\n",
    "\n",
    "\n",
    "@dataclass\n",
    "class EurostatCrimeTable:\n",
    "    data: pd.DataFrame = None\n",
    "    country_list_sorted: list = None\n",
    "    crime_list_sorted: list = None\n",
    "    country: str = None \n",
    "    crime: str = None\n",
    "    filtered_data: pd.DataFrame = None\n",
    "    filtered_code: None = None\n",
    "    statistics: Statistics = None\n",
    "    statistics_info: str = None\n",
    "\n",
    "    \n",
    "    def _get_sorted_list(self, unpivot_data):\n",
    "        country_list_sorted = sorted(list(set(unpivot_data['country_name'].tolist())))\n",
    "        country_list_sorted.insert(0, 'all')\n",
    "        self.country_list_sorted = country_list_sorted\n",
    "\n",
    "        crime_list_sorted = sorted(list(set(unpivot_data['crime_info'].tolist())))\n",
    "        crime_list_sorted.insert(0, 'all')\n",
    "        self.crime_list_sorted = crime_list_sorted\n",
    "\n",
    "\n",
    "    def load_data(self, path=f'data/estat_crim_off_cat.tsv'):\n",
    "        data = pd.read_csv(path, sep='\\t')\n",
    "        \n",
    "        data = data.rename({data.columns[0]: data.columns[0].replace(r\"\\TIME_PERIOD\", \"\")}, axis=\"columns\")\n",
    "        split_name_columns = (data.columns[0]).split(',')\n",
    "        count_split_columns = len(split_name_columns)\n",
    "        data[split_name_columns] = data[data.columns[0]].str.split(',', expand=True)\n",
    "        data = data.drop(data.columns[0], axis=\"columns\") #odstraneni jiz rozdeleneho sloupce\n",
    "\n",
    "        data = data.merge(geo_df, how='left', on='geo')\n",
    "        data = data.merge(iccs_df, how='left', on='iccs')\n",
    "        data = data.drop(columns=['geo', 'iccs'])\n",
    "\n",
    "        # presun rozdelenych a naparovaných udaju  na zacatek df\n",
    "        reorg_columns = data.columns.tolist()\n",
    "        final_reorg_columns = reorg_columns[-count_split_columns:] + reorg_columns[:-count_split_columns]\n",
    "        data = data[final_reorg_columns]\n",
    "        \n",
    "        no_anual = data[data['freq'] != 'A'].index # podminka, ze se nejedna o rocni data\n",
    "        data = data.drop(index=no_anual)\n",
    "\n",
    "        no_p_hthab = data[data['unit'] != 'P_HTHAB'].index # podminka, ze se nejedna o udaj na 100tis obyvatel\n",
    "        data = data.drop(index=no_p_hthab)\n",
    "\n",
    "        years_list = data.columns[count_split_columns:]\n",
    "        info_list = data.columns[:count_split_columns]\n",
    "\n",
    "        unpivot_data = pd.melt(data, id_vars=info_list, value_vars=years_list, var_name='year', value_name='value')\n",
    "        unpivot_data['year'] = unpivot_data['year'].astype('int')\n",
    "        unpivot_data['value'] = unpivot_data['value'].replace([': ', '0 ', '0.00 ', 0], numpy.nan).astype('float')\n",
    "        \n",
    "        self._get_sorted_list(unpivot_data)\n",
    "        self.data = unpivot_data\n",
    "        \n",
    "    \n",
    "    def filter_data(self, country, crime):\n",
    "        self.country = country\n",
    "        self.crime = crime\n",
    "       \n",
    "\n",
    "        # TODO: nahradit kody '1-1' novymi tridami, ktere budou dedit od Statistics()\n",
    "        if country != 'all' and crime != 'all':\n",
    "            filtered_data = self.data[(self.data['country_name'] == country) & (self.data['crime_info'] == crime)]\n",
    "            filtered_data = filtered_data.sort_values(by='year', axis=0, ascending=True)\n",
    "            # vznik noveho sloupce index!!\n",
    "            self.filtered_data = filtered_data.reset_index()\n",
    "            self.filtered_code = '1-1'\n",
    "            # self.calc_func = self.statistics.calculate_from_data11 # fci ulozim jako parametr\n",
    "\n",
    "        elif country != 'all' and crime == 'all':\n",
    "            self.filtered_data = self.data[self.data['country_name'] == country]\n",
    "            self.filtered_code = '1-all'\n",
    "            \n",
    "        elif country == 'all' and crime != 'all':\n",
    "            self.filtered_data = self.data[self.data['crime_info'] == crime]\n",
    "            self.filtered_code = 'all-1'\n",
    "\n",
    "        elif country == 'all' and crime == 'all':\n",
    "            self.filtered_data = self.data\n",
    "            self.filtered_code = 'all-all'\n",
    "        \n",
    "        self.get_statistics()\n",
    "        \n",
    "\n",
    "    def get_statistics(self):\n",
    "        # _calculate_statistics\n",
    "        data = self.filtered_data\n",
    "        code = self.filtered_code\n",
    "\n",
    "        stat = Statistics()\n",
    "        stat.calculate_from_data(data, code)\n",
    "        # TODO zaktivnit calc_func\n",
    "        # self.calc_func(data, code)\n",
    "        self.statistics = stat\n",
    "\n",
    "        if stat.last_fill_year != stat.max_range_year:\n",
    "            info = f'Data disclosure by the country began in {stat.first_fill_year} and ended in {stat.last_fill_year}.'\n",
    "        elif stat.last_fill_year == stat.max_range_year:\n",
    "            info = f'Data disclosure by the country began in {stat.first_fill_year} and continues until {stat.max_range_year}.'\n",
    "       \n",
    "        \n",
    "        if stat.count_fill_values in [0, 1]:\n",
    "            self.statistics_info = f'During a {stat.count_years}-year period, {self.country} recorded {stat.count_fill_values} entries for {self.crime} types of crime.'\n",
    "        elif stat.count_fill_values not in [0, 1]:\n",
    "            self.statistics_info = f'During a {stat.count_years}-year period, {self.country} recorded {stat.count_fill_values} entries for {self.crime} types of crime. {info} Across these years, there were an average of {stat.mean_value} crimes per hundred thousand inhabitants each year and standard deviation was {stat.standard_deviation}. The minimum recorded crime rate per hundred thousand inhabitants was {stat.min_value} in {stat.min_value_year}, while the maximum was {stat.max_value} in {stat.max_value_year}.'\n",
    "\n",
    "        # TODO: vyřešit info o státu/kriminalitě\n",
    "        # TODO: \n",
    "        # přidat dodatečné  informace o směrodané odchylce\n",
    "        # přidat info o násobku z min -> max aj\n",
    "        # od jakého roku začal stát poskytovat/sbírat data - zmenit automaticky range ve widgete\n",
    "        # vytvorit slovnik jako zaznamnik pro porovnani s ostatnimi zememi průmery, max, min v ráci tr. činnu\n",
    "      \n",
    "    def get_summarize_df_1all(self):\n",
    "        dictionary_list = list()\n",
    "\n",
    "        for country_name in self.country_list_sorted[1:]:\n",
    "            for crime_name in self.crime_list_sorted[1:]:\n",
    "               country_crime_dict = {'country': country_name, 'crime': crime_name}\n",
    "               self.filter_data(country_name, crime_name)\n",
    "               self.get_statistics()\n",
    "               output_dictionary = self.statistics.statistics_dictionary\n",
    "               country_crime_dict.update(output_dictionary)\n",
    "               dictionary_list.append(country_crime_dict)\n",
    "        country_crime_info_11 = pd.DataFrame.from_dict(dictionary_list)\n",
    "        return country_crime_info_11\n",
    "                \n",
    "\n",
    "    def __str__(self):\n",
    "        print(f'info {self.statistics}')\n"
   ]
  },
  {
   "cell_type": "code",
   "execution_count": 16,
   "metadata": {},
   "outputs": [],
   "source": [
    "CrimeData = EurostatCrimeTable()\n",
    "CrimeData.load_data()"
   ]
  },
  {
   "cell_type": "code",
   "execution_count": 17,
   "metadata": {},
   "outputs": [],
   "source": [
    "# sum_info = CrimeData.get_summarize_df_1all()"
   ]
  },
  {
   "cell_type": "code",
   "execution_count": 18,
   "metadata": {},
   "outputs": [],
   "source": [
    "# sum_info.head(30)\n",
    "# a = sum_info[sum_info['count_fill_values'] == 'NaN']\n",
    "# a\n"
   ]
  },
  {
   "cell_type": "code",
   "execution_count": 19,
   "metadata": {},
   "outputs": [
    {
     "data": {
      "application/vnd.jupyter.widget-view+json": {
       "model_id": "0e18cd6e5595462b97088f7cec7b48e8",
       "version_major": 2,
       "version_minor": 0
      },
      "text/plain": [
       "Dropdown(description='Country:', index=1, options=('all', 'Albania', 'Austria', 'Belgium', 'Bosnia and Herzego…"
      ]
     },
     "metadata": {},
     "output_type": "display_data"
    },
    {
     "data": {
      "application/vnd.jupyter.widget-view+json": {
       "model_id": "a7f4099d25c247e6a4240fc70c2cc4db",
       "version_major": 2,
       "version_minor": 0
      },
      "text/plain": [
       "Dropdown(description='Crime:', index=1, options=('all', 'Acts against computer systems', 'Attempted intentiona…"
      ]
     },
     "metadata": {},
     "output_type": "display_data"
    }
   ],
   "source": [
    "country = widgets.Dropdown(\n",
    "    options=CrimeData.country_list_sorted,\n",
    "    value=CrimeData.country_list_sorted[1],\n",
    "    description='Country:',\n",
    "    disabled=False,\n",
    "    )\n",
    "crime = widgets.Dropdown(\n",
    "    options=CrimeData.crime_list_sorted,\n",
    "    value=CrimeData.crime_list_sorted[1],\n",
    "    description='Crime:',\n",
    "    disabled=False,\n",
    "    )\n",
    "display(country)\n",
    "display(crime)"
   ]
  },
  {
   "cell_type": "code",
   "execution_count": 20,
   "metadata": {},
   "outputs": [],
   "source": [
    "select_country = country.value\n",
    "select_crime = crime.value"
   ]
  },
  {
   "cell_type": "code",
   "execution_count": 21,
   "metadata": {},
   "outputs": [
    {
     "data": {
      "text/plain": [
       "'Liechtenstein'"
      ]
     },
     "execution_count": 21,
     "metadata": {},
     "output_type": "execute_result"
    }
   ],
   "source": [
    "select_crime\n",
    "select_country"
   ]
  },
  {
   "cell_type": "code",
   "execution_count": 24,
   "metadata": {},
   "outputs": [
    {
     "data": {
      "text/html": [
       "<div>\n",
       "<style scoped>\n",
       "    .dataframe tbody tr th:only-of-type {\n",
       "        vertical-align: middle;\n",
       "    }\n",
       "\n",
       "    .dataframe tbody tr th {\n",
       "        vertical-align: top;\n",
       "    }\n",
       "\n",
       "    .dataframe thead th {\n",
       "        text-align: right;\n",
       "    }\n",
       "</style>\n",
       "<table border=\"1\" class=\"dataframe\">\n",
       "  <thead>\n",
       "    <tr style=\"text-align: right;\">\n",
       "      <th></th>\n",
       "      <th>index</th>\n",
       "      <th>freq</th>\n",
       "      <th>unit</th>\n",
       "      <th>country_name</th>\n",
       "      <th>crime_info</th>\n",
       "      <th>year</th>\n",
       "      <th>value</th>\n",
       "    </tr>\n",
       "  </thead>\n",
       "  <tbody>\n",
       "    <tr>\n",
       "      <th>0</th>\n",
       "      <td>137</td>\n",
       "      <td>A</td>\n",
       "      <td>P_HTHAB</td>\n",
       "      <td>Liechtenstein</td>\n",
       "      <td>Kidnapping</td>\n",
       "      <td>2008</td>\n",
       "      <td>NaN</td>\n",
       "    </tr>\n",
       "    <tr>\n",
       "      <th>1</th>\n",
       "      <td>911</td>\n",
       "      <td>A</td>\n",
       "      <td>P_HTHAB</td>\n",
       "      <td>Liechtenstein</td>\n",
       "      <td>Kidnapping</td>\n",
       "      <td>2009</td>\n",
       "      <td>NaN</td>\n",
       "    </tr>\n",
       "    <tr>\n",
       "      <th>2</th>\n",
       "      <td>1685</td>\n",
       "      <td>A</td>\n",
       "      <td>P_HTHAB</td>\n",
       "      <td>Liechtenstein</td>\n",
       "      <td>Kidnapping</td>\n",
       "      <td>2010</td>\n",
       "      <td>NaN</td>\n",
       "    </tr>\n",
       "    <tr>\n",
       "      <th>3</th>\n",
       "      <td>2459</td>\n",
       "      <td>A</td>\n",
       "      <td>P_HTHAB</td>\n",
       "      <td>Liechtenstein</td>\n",
       "      <td>Kidnapping</td>\n",
       "      <td>2011</td>\n",
       "      <td>NaN</td>\n",
       "    </tr>\n",
       "    <tr>\n",
       "      <th>4</th>\n",
       "      <td>3233</td>\n",
       "      <td>A</td>\n",
       "      <td>P_HTHAB</td>\n",
       "      <td>Liechtenstein</td>\n",
       "      <td>Kidnapping</td>\n",
       "      <td>2012</td>\n",
       "      <td>NaN</td>\n",
       "    </tr>\n",
       "    <tr>\n",
       "      <th>5</th>\n",
       "      <td>4007</td>\n",
       "      <td>A</td>\n",
       "      <td>P_HTHAB</td>\n",
       "      <td>Liechtenstein</td>\n",
       "      <td>Kidnapping</td>\n",
       "      <td>2013</td>\n",
       "      <td>NaN</td>\n",
       "    </tr>\n",
       "    <tr>\n",
       "      <th>6</th>\n",
       "      <td>4781</td>\n",
       "      <td>A</td>\n",
       "      <td>P_HTHAB</td>\n",
       "      <td>Liechtenstein</td>\n",
       "      <td>Kidnapping</td>\n",
       "      <td>2014</td>\n",
       "      <td>NaN</td>\n",
       "    </tr>\n",
       "    <tr>\n",
       "      <th>7</th>\n",
       "      <td>5555</td>\n",
       "      <td>A</td>\n",
       "      <td>P_HTHAB</td>\n",
       "      <td>Liechtenstein</td>\n",
       "      <td>Kidnapping</td>\n",
       "      <td>2015</td>\n",
       "      <td>NaN</td>\n",
       "    </tr>\n",
       "    <tr>\n",
       "      <th>8</th>\n",
       "      <td>6329</td>\n",
       "      <td>A</td>\n",
       "      <td>P_HTHAB</td>\n",
       "      <td>Liechtenstein</td>\n",
       "      <td>Kidnapping</td>\n",
       "      <td>2016</td>\n",
       "      <td>NaN</td>\n",
       "    </tr>\n",
       "    <tr>\n",
       "      <th>9</th>\n",
       "      <td>7103</td>\n",
       "      <td>A</td>\n",
       "      <td>P_HTHAB</td>\n",
       "      <td>Liechtenstein</td>\n",
       "      <td>Kidnapping</td>\n",
       "      <td>2017</td>\n",
       "      <td>NaN</td>\n",
       "    </tr>\n",
       "    <tr>\n",
       "      <th>10</th>\n",
       "      <td>7877</td>\n",
       "      <td>A</td>\n",
       "      <td>P_HTHAB</td>\n",
       "      <td>Liechtenstein</td>\n",
       "      <td>Kidnapping</td>\n",
       "      <td>2018</td>\n",
       "      <td>NaN</td>\n",
       "    </tr>\n",
       "    <tr>\n",
       "      <th>11</th>\n",
       "      <td>8651</td>\n",
       "      <td>A</td>\n",
       "      <td>P_HTHAB</td>\n",
       "      <td>Liechtenstein</td>\n",
       "      <td>Kidnapping</td>\n",
       "      <td>2019</td>\n",
       "      <td>NaN</td>\n",
       "    </tr>\n",
       "    <tr>\n",
       "      <th>12</th>\n",
       "      <td>9425</td>\n",
       "      <td>A</td>\n",
       "      <td>P_HTHAB</td>\n",
       "      <td>Liechtenstein</td>\n",
       "      <td>Kidnapping</td>\n",
       "      <td>2020</td>\n",
       "      <td>NaN</td>\n",
       "    </tr>\n",
       "    <tr>\n",
       "      <th>13</th>\n",
       "      <td>10199</td>\n",
       "      <td>A</td>\n",
       "      <td>P_HTHAB</td>\n",
       "      <td>Liechtenstein</td>\n",
       "      <td>Kidnapping</td>\n",
       "      <td>2021</td>\n",
       "      <td>NaN</td>\n",
       "    </tr>\n",
       "    <tr>\n",
       "      <th>14</th>\n",
       "      <td>10973</td>\n",
       "      <td>A</td>\n",
       "      <td>P_HTHAB</td>\n",
       "      <td>Liechtenstein</td>\n",
       "      <td>Kidnapping</td>\n",
       "      <td>2022</td>\n",
       "      <td>NaN</td>\n",
       "    </tr>\n",
       "  </tbody>\n",
       "</table>\n",
       "</div>"
      ],
      "text/plain": [
       "    index freq     unit   country_name  crime_info  year  value\n",
       "0     137    A  P_HTHAB  Liechtenstein  Kidnapping  2008    NaN\n",
       "1     911    A  P_HTHAB  Liechtenstein  Kidnapping  2009    NaN\n",
       "2    1685    A  P_HTHAB  Liechtenstein  Kidnapping  2010    NaN\n",
       "3    2459    A  P_HTHAB  Liechtenstein  Kidnapping  2011    NaN\n",
       "4    3233    A  P_HTHAB  Liechtenstein  Kidnapping  2012    NaN\n",
       "5    4007    A  P_HTHAB  Liechtenstein  Kidnapping  2013    NaN\n",
       "6    4781    A  P_HTHAB  Liechtenstein  Kidnapping  2014    NaN\n",
       "7    5555    A  P_HTHAB  Liechtenstein  Kidnapping  2015    NaN\n",
       "8    6329    A  P_HTHAB  Liechtenstein  Kidnapping  2016    NaN\n",
       "9    7103    A  P_HTHAB  Liechtenstein  Kidnapping  2017    NaN\n",
       "10   7877    A  P_HTHAB  Liechtenstein  Kidnapping  2018    NaN\n",
       "11   8651    A  P_HTHAB  Liechtenstein  Kidnapping  2019    NaN\n",
       "12   9425    A  P_HTHAB  Liechtenstein  Kidnapping  2020    NaN\n",
       "13  10199    A  P_HTHAB  Liechtenstein  Kidnapping  2021    NaN\n",
       "14  10973    A  P_HTHAB  Liechtenstein  Kidnapping  2022    NaN"
      ]
     },
     "execution_count": 24,
     "metadata": {},
     "output_type": "execute_result"
    }
   ],
   "source": [
    "CrimeData.filter_data(select_country, select_crime)\n",
    "# xys = CrimeData.filtered_data.replace([0], numpy.nan)\n",
    "# xys\n",
    "\n",
    "CrimeData.filtered_data#['value'].count()#.info()\n",
    "#.replace([0, '0'], 'NaN')\n"
   ]
  },
  {
   "cell_type": "code",
   "execution_count": 25,
   "metadata": {},
   "outputs": [
    {
     "data": {
      "text/plain": [
       "'During a 15-year period, Liechtenstein recorded 0 entries for Kidnapping types of crime.'"
      ]
     },
     "execution_count": 25,
     "metadata": {},
     "output_type": "execute_result"
    }
   ],
   "source": [
    "CrimeData.statistics_info"
   ]
  },
  {
   "cell_type": "code",
   "execution_count": 26,
   "metadata": {},
   "outputs": [
    {
     "data": {
      "text/plain": [
       "'No record for crime.'"
      ]
     },
     "execution_count": 26,
     "metadata": {},
     "output_type": "execute_result"
    }
   ],
   "source": [
    "CrimeData.statistics.quality_data_info"
   ]
  },
  {
   "cell_type": "markdown",
   "metadata": {},
   "source": [
    "## Data visualisation"
   ]
  },
  {
   "cell_type": "code",
   "execution_count": 38,
   "metadata": {},
   "outputs": [],
   "source": [
    "# TODO: propojit widgetu s grafem, aby byl rovnou interaktivní, pozor na dublo, trublo grafů"
   ]
  },
  {
   "cell_type": "code",
   "execution_count": 39,
   "metadata": {},
   "outputs": [
    {
     "data": {
      "application/vnd.jupyter.widget-view+json": {
       "model_id": "a393ade1066b464e9d2a306af820c980",
       "version_major": 2,
       "version_minor": 0
      },
      "text/plain": [
       "IntRangeSlider(value=(2008, 2022), continuous_update=False, description='Years:', max=2022, min=2008)"
      ]
     },
     "execution_count": 39,
     "metadata": {},
     "output_type": "execute_result"
    }
   ],
   "source": [
    "years_range = widgets.IntRangeSlider(\n",
    "    value=[CrimeData.statistics.min_range_year, CrimeData.statistics.max_range_year],\n",
    "    min=CrimeData.statistics.min_range_year,\n",
    "    max=CrimeData.statistics.max_range_year,\n",
    "    step=1,\n",
    "    description='Years:',\n",
    "    disabled=False,\n",
    "    continuous_update=False,\n",
    "    orientation='horizontal',\n",
    "    readout=True,   \n",
    "    readout_format='d',\n",
    "\n",
    ")\n",
    "years_range"
   ]
  },
  {
   "cell_type": "code",
   "execution_count": 40,
   "metadata": {},
   "outputs": [
    {
     "data": {
      "image/png": "[encoded data removed]",
      "text/plain": [
       "<Figure size 1000x600 with 1 Axes>"
      ]
     },
     "metadata": {},
     "output_type": "display_data"
    }
   ],
   "source": [
    "start_year, end_year = years_range.value\n",
    "plt.figure(figsize=(10, 6))\n",
    "plt.plot(CrimeData.filtered_data['year'], CrimeData.filtered_data['value'], marker='o')\n",
    "plt.title(f\"Time Series for {country.value} and crime: {crime.value}\")\n",
    "plt.xlabel(\"Year\")\n",
    "plt.ylabel(\"Value\")\n",
    "plt.grid(True)\n",
    "plt.xlim(start_year, end_year)\n",
    "plt.xticks(range(start_year, end_year + 1, 1))\n",
    "plt.show()"
   ]
  },
  {
   "cell_type": "code",
   "execution_count": 41,
   "metadata": {},
   "outputs": [
    {
     "data": {
      "image/png": "[encoded data removed]",
      "text/plain": [
       "<Figure size 640x480 with 1 Axes>"
      ]
     },
     "metadata": {},
     "output_type": "display_data"
    }
   ],
   "source": [
    "plt.boxplot(CrimeData.filtered_data['value'].dropna(), vert=False, showfliers=True)\n",
    "plt.xlabel('PHTIH')\n",
    "plt.title('Boxplot...')\n",
    "\n",
    "# Show plot\n",
    "plt.show()"
   ]
  },
  {
   "cell_type": "code",
   "execution_count": 42,
   "metadata": {},
   "outputs": [
    {
     "data": {
      "image/png": "[encoded data removed]",
      "text/plain": [
       "<Figure size 640x480 with 1 Axes>"
      ]
     },
     "metadata": {},
     "output_type": "display_data"
    }
   ],
   "source": [
    "# import seaborn as sns\n",
    "# sns.histplot(CrimeData.filtered_data['value'], bins=6, kde=True)\n",
    "plt.hist(CrimeData.filtered_data['value'], bins=6, edgecolor='black', alpha=0.7)\n",
    "\n",
    "# Přidání názvů a popisků\n",
    "plt.title('Histogram hodnot')\n",
    "plt.xlabel('Hodnota')\n",
    "plt.ylabel('Frekvence')\n",
    "\n",
    "# Mean line\n",
    "plt.axvline(CrimeData.statistics.mean_value, color = 'red', linestyle='dashed', linewidth=1)\n",
    "plt.text(CrimeData.statistics.mean_value, plt.ylim()[1]*0.9, f'Mean: {CrimeData.statistics.mean_value:.2f}', color = 'red')\n",
    "\n",
    "# Median line\n",
    "plt.axvline(CrimeData.statistics.median_value, color='blue', linestyle='dashed', linewidth=1)\n",
    "plt.text(CrimeData.statistics.median_value, plt.ylim()[1]*0.8, f'Median: {CrimeData.statistics.median_value:.2f}', color='blue')\n",
    "\n",
    "\n",
    "\n",
    "# Zobrazení grafu\n",
    "plt.show()"
   ]
  },
  {
   "cell_type": "code",
   "execution_count": null,
   "metadata": {},
   "outputs": [],
   "source": []
  }
 ],
 "metadata": {
  "kernelspec": {
   "display_name": "crime_EU_venv",
   "language": "python",
   "name": "python3"
  },
  "language_info": {
   "codemirror_mode": {
    "name": "ipython",
    "version": 3
   },
   "file_extension": ".py",
   "mimetype": "text/x-python",
   "name": "python",
   "nbconvert_exporter": "python",
   "pygments_lexer": "ipython3",
   "version": "3.12.2"
  }
 },
 "nbformat": 4,
 "nbformat_minor": 2
}
