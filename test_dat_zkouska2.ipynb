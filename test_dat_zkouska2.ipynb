{
 "cells": [
  {
   "cell_type": "markdown",
   "metadata": {},
   "source": [
    "## Data manipulation"
   ]
  },
  {
   "cell_type": "code",
   "execution_count": 1,
   "metadata": {},
   "outputs": [],
   "source": [
    "import pandas as pd"
   ]
  },
  {
   "cell_type": "code",
   "execution_count": 2,
   "metadata": {},
   "outputs": [],
   "source": [
    "import matplotlib.pyplot as plt\n",
    "import numpy\n",
    "import ipywidgets as widgets\n",
    "from IPython.display import display"
   ]
  },
  {
   "cell_type": "code",
   "execution_count": null,
   "metadata": {},
   "outputs": [],
   "source": [
    "from dataclasses import dataclass\n",
    "\n",
    "@dataclass\n",
    "class Statistics:\n",
    "    count_years: int = None\n",
    "    count_fill_values: int = None\n",
    "    mean_value: float = None\n",
    "    median_value: float = None\n",
    "    max_value: int = None\n",
    "    max_value_year: int = None\n",
    "    min_value: float = None\n",
    "    min_value_year: float = None\n",
    "    standard_deviation: float = None\n",
    "    min_range_year: None = None\n",
    "    max_range_year: None = None # otázka zda používat, je to informace pro range widget\n",
    "    \n",
    "    def calculate_from_data(self, data):\n",
    "        value_column = data['value']\n",
    "        \n",
    "        self.count_years = data['year'].count()\n",
    "        self.count_fill_values = value_column.count()\n",
    "        count_unfill_values = self.count_years - self.count_fill_values\n",
    "\n",
    "        self.mean_value = round(value_column.mean(), 2)\n",
    "        self.median_value = value_column.median()\n",
    "\n",
    "        max_value_row = data.loc[data['value'].idxmax()]\n",
    "        min_value_row = data.loc[data['value'].idxmin()]\n",
    "\n",
    "        self.max_value, self.max_value_year = max_value_row[['value', 'year']]\n",
    "        self.min_value, self.min_value_year = min_value_row[['value', 'year']]\n",
    "\n",
    "        # použita populační směrodatná odchylka, ddof=1 ->nastavení na výběrovou směrodatnou odchylku\n",
    "        self.standard_deviation = round(numpy.std(value_column), 2)\n",
    "\n",
    "        # TODO: nutno pořešit v rámci změny filtrování, např. pokud budu mít všechny země, tento údaj úplně nědává smysl, \n",
    "        self.min_range_year = data['year'].min() \n",
    "        self.max_range_year = data['year'].max()\n",
    "\n",
    "\n",
    "@dataclass\n",
    "class EurostatCrimeTable:\n",
    "    data: pd.DataFrame = None\n",
    "    country: str = None\n",
    "    crime: str = None\n",
    "    filtered_data: pd.DataFrame = None\n",
    "    filtered_code: None = None\n",
    "    statistics: Statistics = None\n",
    "    statistics_info: str = None\n",
    "    \n",
    "    def load_data(self, path):\n",
    "        data = pd.read_csv(path, sep='\\t')\n",
    "        \n",
    "        data = data.rename({data.columns[0]: data.columns[0].replace(r\"\\TIME_PERIOD\", \"\")}, axis=\"columns\")\n",
    "        split_name_columns = (data.columns[0]).split(',')\n",
    "        count_split_columns = len(split_name_columns)\n",
    "        data[split_name_columns] = data[data.columns[0]].str.split(',', expand=True)\n",
    "        data = data.drop(data.columns[0], axis=\"columns\") #odstraneni jiz rozdeleneho sloupce\n",
    "\n",
    "\n",
    "        %run data/add_info.ipynb\n",
    "        data = data.merge(geo_df, how='left', on='geo')\n",
    "        data = data.merge(iccs_df, how='left', on='iccs')\n",
    "        data = data.drop(columns=['geo', 'iccs'])\n",
    "\n",
    "        # presun rozdelenych a naparovaných udaju  na zacatek df\n",
    "        reorg_columns = data.columns.tolist()\n",
    "        final_reorg_columns = reorg_columns[-count_split_columns:] + reorg_columns[:-count_split_columns]\n",
    "        data = data[final_reorg_columns]\n",
    "\n",
    "        data = data.replace(\": \", 'NaN')\n",
    "\n",
    "        column_period = data.columns[count_split_columns:] \n",
    "        data[column_period] = data[data.columns[count_split_columns:]].astype('float')\n",
    "        \n",
    "        no_anual = data[data['freq'] != 'A'].index # podminka, ze se nejedna o rocni data\n",
    "        data.drop(index=no_anual, inplace=True)\n",
    "\n",
    "        no_p_hthab = data[data['unit'] != 'P_HTHAB'].index # podminka, ze se nejedna o udaj na 100tis obyvatel\n",
    "        data.drop(index=no_p_hthab, inplace=True)\n",
    "\n",
    "        years_list = data.columns[count_split_columns:]\n",
    "        info_list = data.columns[:count_split_columns]\n",
    "\n",
    "        unpivot_data = pd.melt(data, id_vars=info_list, value_vars=years_list, var_name='year', value_name='value')\n",
    "        unpivot_data['year'] = unpivot_data['year'].astype('int')\n",
    "        self.data = unpivot_data\n",
    "    \n",
    "\n",
    "    def filter_data(self, country, crime):\n",
    "        self.country = country\n",
    "        self.crime = crime\n",
    "\n",
    "        if country != 'all' and crime != 'all':\n",
    "            self.filtered_data = self.data[(self.data['country_name'] == country) & (self.data['crime_info'] == crime)]\n",
    "            self.filtered_code = '1-1'\n",
    "\n",
    "        elif country != 'all' and crime == 'all':\n",
    "            self.filtered_data = self.data[self.data['country_name'] == country]\n",
    "            self.filtered_code = '1-all'\n",
    "\n",
    "        elif country == 'all' and crime != 'all':\n",
    "            self.filtered_data = self.data[self.data['crime_info'] == crime]\n",
    "            self.filtered_code = 'all-1'\n",
    "\n",
    "        elif country == 'all' and crime == 'all':\n",
    "            self.filtered_data = self.data\n",
    "            self.filtered_code = 'all-all'\n",
    "            \n",
    "\n",
    "    def get_statistics(self):\n",
    "        data = self.filtered_data\n",
    "\n",
    "        stat = Statistics()\n",
    "        stat.calculate_from_data(data)\n",
    "        self.statistics = stat\n",
    "\n",
    "        self.statistics_info = f'During a {stat.count_years}-year period, {self.country} recorded {stat.count_fill_values} entries for {self.crime} types of crime. Across these years, there were an average of {stat.mean_value} crimes per hundred thousand inhabitants each year and standard deviation was {stat.standard_deviation}. The minimum recorded crime rate per hundred thousand inhabitants was {stat.min_value} in {stat.min_value_year}, while the maximum was {stat.max_value} in {stat.max_value_year}.'\n",
    "\n",
    "        pass # TODO: vyřešit info o státu/kriminalitě\n",
    "        # TODO: \n",
    "        # přidat dodatečné  informace o směrodané odchylně\n",
    "        # přidat info o násobku z min -> max aj\n",
    "        # od jakého roku začal stát poskytovat/sbírat data - zmenit automaticky range ve widgete\n",
    "        # vytvorit slovnik jako zaznamnik pro porovnani s ostatnimi zememi průmery, max, min v ráci tr. činnu\n",
    "      \n",
    "        \n",
    "    def __str__(self):\n",
    "        print(f'info {self.statistics}')\n"
   ]
  },
  {
   "cell_type": "code",
   "execution_count": 4,
   "metadata": {},
   "outputs": [],
   "source": [
    "CrimeData = EurostatCrimeTable()\n",
    "CrimeData.load_data(f'data/estat_crim_off_cat.tsv')\n"
   ]
  },
  {
   "cell_type": "code",
   "execution_count": 5,
   "metadata": {},
   "outputs": [],
   "source": [
    "country_list_sorted = sorted(list(set(CrimeData.data['country_name'].tolist())))\n",
    "country_list_sorted.insert(0, 'all')\n",
    "\n",
    "crime_list_sorted = sorted(list(set(CrimeData.data['crime_info'].tolist())))\n",
    "crime_list_sorted.insert(0, 'all')"
   ]
  },
  {
   "cell_type": "code",
   "execution_count": 6,
   "metadata": {},
   "outputs": [
    {
     "data": {
      "application/vnd.jupyter.widget-view+json": {
       "model_id": "4d2e866824484828a283162c04d9014e",
       "version_major": 2,
       "version_minor": 0
      },
      "text/plain": [
       "Dropdown(description='Country:', index=1, options=('all', 'Albania', 'Austria', 'Belgium', 'Bosnia and Herzego…"
      ]
     },
     "metadata": {},
     "output_type": "display_data"
    },
    {
     "data": {
      "application/vnd.jupyter.widget-view+json": {
       "model_id": "28115e43611443a8a9617814bc917e3f",
       "version_major": 2,
       "version_minor": 0
      },
      "text/plain": [
       "Dropdown(description='Crime:', index=1, options=('all', 'Acts against computer systems', 'Attempted intentiona…"
      ]
     },
     "metadata": {},
     "output_type": "display_data"
    }
   ],
   "source": [
    "country = widgets.Dropdown(\n",
    "    options=country_list_sorted,\n",
    "    value=country_list_sorted[1],\n",
    "    description='Country:',\n",
    "    disabled=False,\n",
    "    )\n",
    "crime = widgets.Dropdown(\n",
    "    options=crime_list_sorted,\n",
    "    value=crime_list_sorted[1],\n",
    "    description='Crime:',\n",
    "    disabled=False,\n",
    "    )\n",
    "display(country)\n",
    "display(crime)"
   ]
  },
  {
   "cell_type": "code",
   "execution_count": 7,
   "metadata": {},
   "outputs": [],
   "source": [
    "select_country = country.value\n",
    "select_crime = crime.value"
   ]
  },
  {
   "cell_type": "code",
   "execution_count": 8,
   "metadata": {},
   "outputs": [
    {
     "data": {
      "text/plain": [
       "'all'"
      ]
     },
     "execution_count": 8,
     "metadata": {},
     "output_type": "execute_result"
    }
   ],
   "source": [
    "select_crime\n",
    "select_country"
   ]
  },
  {
   "cell_type": "code",
   "execution_count": 9,
   "metadata": {},
   "outputs": [],
   "source": [
    "CrimeData.filter_data(select_country, select_crime)\n"
   ]
  },
  {
   "cell_type": "code",
   "execution_count": 10,
   "metadata": {},
   "outputs": [
    {
     "data": {
      "text/html": [
       "<div>\n",
       "<style scoped>\n",
       "    .dataframe tbody tr th:only-of-type {\n",
       "        vertical-align: middle;\n",
       "    }\n",
       "\n",
       "    .dataframe tbody tr th {\n",
       "        vertical-align: top;\n",
       "    }\n",
       "\n",
       "    .dataframe thead th {\n",
       "        text-align: right;\n",
       "    }\n",
       "</style>\n",
       "<table border=\"1\" class=\"dataframe\">\n",
       "  <thead>\n",
       "    <tr style=\"text-align: right;\">\n",
       "      <th></th>\n",
       "      <th>freq</th>\n",
       "      <th>unit</th>\n",
       "      <th>country_name</th>\n",
       "      <th>crime_info</th>\n",
       "      <th>year</th>\n",
       "      <th>value</th>\n",
       "    </tr>\n",
       "  </thead>\n",
       "  <tbody>\n",
       "    <tr>\n",
       "      <th>579</th>\n",
       "      <td>A</td>\n",
       "      <td>P_HTHAB</td>\n",
       "      <td>Albania</td>\n",
       "      <td>Fraud</td>\n",
       "      <td>2008</td>\n",
       "      <td>NaN</td>\n",
       "    </tr>\n",
       "    <tr>\n",
       "      <th>580</th>\n",
       "      <td>A</td>\n",
       "      <td>P_HTHAB</td>\n",
       "      <td>Austria</td>\n",
       "      <td>Fraud</td>\n",
       "      <td>2008</td>\n",
       "      <td>NaN</td>\n",
       "    </tr>\n",
       "    <tr>\n",
       "      <th>581</th>\n",
       "      <td>A</td>\n",
       "      <td>P_HTHAB</td>\n",
       "      <td>Belgium</td>\n",
       "      <td>Fraud</td>\n",
       "      <td>2008</td>\n",
       "      <td>NaN</td>\n",
       "    </tr>\n",
       "    <tr>\n",
       "      <th>582</th>\n",
       "      <td>A</td>\n",
       "      <td>P_HTHAB</td>\n",
       "      <td>Bulgaria</td>\n",
       "      <td>Fraud</td>\n",
       "      <td>2008</td>\n",
       "      <td>NaN</td>\n",
       "    </tr>\n",
       "    <tr>\n",
       "      <th>583</th>\n",
       "      <td>A</td>\n",
       "      <td>P_HTHAB</td>\n",
       "      <td>Switzerland</td>\n",
       "      <td>Fraud</td>\n",
       "      <td>2008</td>\n",
       "      <td>NaN</td>\n",
       "    </tr>\n",
       "    <tr>\n",
       "      <th>...</th>\n",
       "      <td>...</td>\n",
       "      <td>...</td>\n",
       "      <td>...</td>\n",
       "      <td>...</td>\n",
       "      <td>...</td>\n",
       "      <td>...</td>\n",
       "    </tr>\n",
       "    <tr>\n",
       "      <th>11446</th>\n",
       "      <td>A</td>\n",
       "      <td>P_HTHAB</td>\n",
       "      <td>Sweden</td>\n",
       "      <td>Fraud</td>\n",
       "      <td>2022</td>\n",
       "      <td>2379.66</td>\n",
       "    </tr>\n",
       "    <tr>\n",
       "      <th>11447</th>\n",
       "      <td>A</td>\n",
       "      <td>P_HTHAB</td>\n",
       "      <td>Slovenia</td>\n",
       "      <td>Fraud</td>\n",
       "      <td>2022</td>\n",
       "      <td>173.74</td>\n",
       "    </tr>\n",
       "    <tr>\n",
       "      <th>11448</th>\n",
       "      <td>A</td>\n",
       "      <td>P_HTHAB</td>\n",
       "      <td>Slovakia</td>\n",
       "      <td>Fraud</td>\n",
       "      <td>2022</td>\n",
       "      <td>39.05</td>\n",
       "    </tr>\n",
       "    <tr>\n",
       "      <th>11449</th>\n",
       "      <td>A</td>\n",
       "      <td>P_HTHAB</td>\n",
       "      <td>Türkiye</td>\n",
       "      <td>Fraud</td>\n",
       "      <td>2022</td>\n",
       "      <td>NaN</td>\n",
       "    </tr>\n",
       "    <tr>\n",
       "      <th>11450</th>\n",
       "      <td>A</td>\n",
       "      <td>P_HTHAB</td>\n",
       "      <td>Kosovo*</td>\n",
       "      <td>Fraud</td>\n",
       "      <td>2022</td>\n",
       "      <td>NaN</td>\n",
       "    </tr>\n",
       "  </tbody>\n",
       "</table>\n",
       "<p>540 rows × 6 columns</p>\n",
       "</div>"
      ],
      "text/plain": [
       "      freq     unit country_name crime_info  year    value\n",
       "579      A  P_HTHAB      Albania      Fraud  2008      NaN\n",
       "580      A  P_HTHAB      Austria      Fraud  2008      NaN\n",
       "581      A  P_HTHAB      Belgium      Fraud  2008      NaN\n",
       "582      A  P_HTHAB     Bulgaria      Fraud  2008      NaN\n",
       "583      A  P_HTHAB  Switzerland      Fraud  2008      NaN\n",
       "...    ...      ...          ...        ...   ...      ...\n",
       "11446    A  P_HTHAB       Sweden      Fraud  2022  2379.66\n",
       "11447    A  P_HTHAB     Slovenia      Fraud  2022   173.74\n",
       "11448    A  P_HTHAB     Slovakia      Fraud  2022    39.05\n",
       "11449    A  P_HTHAB      Türkiye      Fraud  2022      NaN\n",
       "11450    A  P_HTHAB      Kosovo*      Fraud  2022      NaN\n",
       "\n",
       "[540 rows x 6 columns]"
      ]
     },
     "execution_count": 10,
     "metadata": {},
     "output_type": "execute_result"
    }
   ],
   "source": [
    "select_filter = CrimeData.filtered_data\n",
    "select_filter"
   ]
  },
  {
   "cell_type": "code",
   "execution_count": 10,
   "metadata": {},
   "outputs": [],
   "source": [
    "CrimeData.get_statistics()"
   ]
  },
  {
   "cell_type": "code",
   "execution_count": 11,
   "metadata": {},
   "outputs": [
    {
     "data": {
      "text/plain": [
       "'During a 15-year period, France recorded 15 entries for Intentional homicide types of crime. Across these years, there were an average of 1.2 crimes per hundred thousand inhabitants each year and standard deviation was 0.13. The minimum recorded crime rate per hundred thousand inhabitants was 1.03 in 2020, while the maximum was 1.52 in 2008.'"
      ]
     },
     "execution_count": 11,
     "metadata": {},
     "output_type": "execute_result"
    }
   ],
   "source": [
    "CrimeData.statistics.max_value_year\n",
    "CrimeData.statistics_info"
   ]
  },
  {
   "cell_type": "code",
   "execution_count": 12,
   "metadata": {},
   "outputs": [
    {
     "data": {
      "text/plain": [
       "np.float64(0.13)"
      ]
     },
     "execution_count": 12,
     "metadata": {},
     "output_type": "execute_result"
    }
   ],
   "source": [
    "CrimeData.statistics.standard_deviation"
   ]
  },
  {
   "cell_type": "code",
   "execution_count": 15,
   "metadata": {},
   "outputs": [
    {
     "data": {
      "text/plain": [
       "np.float64(1.2)"
      ]
     },
     "execution_count": 15,
     "metadata": {},
     "output_type": "execute_result"
    }
   ],
   "source": [
    "CrimeData.statistics.mean_value"
   ]
  },
  {
   "cell_type": "markdown",
   "metadata": {},
   "source": [
    "## Data visualisation"
   ]
  },
  {
   "cell_type": "code",
   "execution_count": 219,
   "metadata": {},
   "outputs": [],
   "source": [
    "# TODO: propojit widgetu s grafem, aby byl rovnou interaktivní, pozor na dublo, trublo grafů"
   ]
  },
  {
   "cell_type": "code",
   "execution_count": 16,
   "metadata": {},
   "outputs": [
    {
     "data": {
      "application/vnd.jupyter.widget-view+json": {
       "model_id": "4ed258ba6a4542beb5e588354440fb0f",
       "version_major": 2,
       "version_minor": 0
      },
      "text/plain": [
       "IntRangeSlider(value=(2008, 2022), continuous_update=False, description='Years:', max=2022, min=2008)"
      ]
     },
     "execution_count": 16,
     "metadata": {},
     "output_type": "execute_result"
    }
   ],
   "source": [
    "years_range = widgets.IntRangeSlider(\n",
    "    value=[CrimeData.statistics.min_range_year, CrimeData.statistics.max_range_year],\n",
    "    min=CrimeData.statistics.min_range_year,\n",
    "    max=CrimeData.statistics.max_range_year,\n",
    "    step=1,\n",
    "    description='Years:',\n",
    "    disabled=False,\n",
    "    continuous_update=False,\n",
    "    orientation='horizontal',\n",
    "    readout=True,   \n",
    "    readout_format='d',\n",
    "\n",
    ")\n",
    "years_range"
   ]
  },
  {
   "cell_type": "code",
   "execution_count": 17,
   "metadata": {},
   "outputs": [
    {
     "data": {
      "image/png": "[encoded data removed]",
      "text/plain": [
       "<Figure size 1000x600 with 1 Axes>"
      ]
     },
     "metadata": {},
     "output_type": "display_data"
    }
   ],
   "source": [
    "start_year, end_year = years_range.value\n",
    "plt.figure(figsize=(10, 6))\n",
    "plt.plot(CrimeData.filtered_data['year'], CrimeData.filtered_data['value'], marker='o')\n",
    "plt.title(f\"Time Series for {country.value} and crime: {crime.value}\")\n",
    "plt.xlabel(\"Year\")\n",
    "plt.ylabel(\"Value\")\n",
    "plt.grid(True)\n",
    "plt.xlim(start_year, end_year)\n",
    "plt.xticks(range(start_year, end_year + 1, 1))\n",
    "plt.show()"
   ]
  },
  {
   "cell_type": "code",
   "execution_count": 18,
   "metadata": {},
   "outputs": [
    {
     "data": {
      "image/png": "[encoded data removed]",
      "text/plain": [
       "<Figure size 640x480 with 1 Axes>"
      ]
     },
     "metadata": {},
     "output_type": "display_data"
    }
   ],
   "source": [
    "plt.boxplot(CrimeData.filtered_data['value'].dropna(), vert=False, showfliers=True)\n",
    "plt.xlabel('PHTIH')\n",
    "plt.title('Boxplot...')\n",
    "\n",
    "# Show plot\n",
    "plt.show()"
   ]
  },
  {
   "cell_type": "code",
   "execution_count": 30,
   "metadata": {},
   "outputs": [
    {
     "data": {
      "image/png": "[encoded data removed]",
      "text/plain": [
       "<Figure size 640x480 with 1 Axes>"
      ]
     },
     "metadata": {},
     "output_type": "display_data"
    }
   ],
   "source": [
    "# import seaborn as sns\n",
    "# sns.histplot(CrimeData.filtered_data['value'], bins=6, kde=True)\n",
    "plt.hist(CrimeData.filtered_data['value'], bins=6, edgecolor='black', alpha=0.7)\n",
    "\n",
    "# Přidání názvů a popisků\n",
    "plt.title('Histogram hodnot')\n",
    "plt.xlabel('Hodnota')\n",
    "plt.ylabel('Frekvence')\n",
    "\n",
    "# Mean line\n",
    "plt.axvline(CrimeData.statistics.mean_value, color = 'red', linestyle='dashed', linewidth=1)\n",
    "plt.text(CrimeData.statistics.mean_value, plt.ylim()[1]*0.9, f'Mean: {CrimeData.statistics.mean_value:.2f}', color = 'red')\n",
    "\n",
    "# Median line\n",
    "plt.axvline(CrimeData.statistics.median_value, color='blue', linestyle='dashed', linewidth=1)\n",
    "plt.text(CrimeData.statistics.median_value, plt.ylim()[1]*0.8, f'Median: {CrimeData.statistics.median_value:.2f}', color='blue')\n",
    "\n",
    "\n",
    "\n",
    "# Zobrazení grafu\n",
    "plt.show()"
   ]
  },
  {
   "cell_type": "code",
   "execution_count": null,
   "metadata": {},
   "outputs": [],
   "source": []
  }
 ],
 "metadata": {
  "kernelspec": {
   "display_name": "crime_EU_venv",
   "language": "python",
   "name": "python3"
  },
  "language_info": {
   "codemirror_mode": {
    "name": "ipython",
    "version": 3
   },
   "file_extension": ".py",
   "mimetype": "text/x-python",
   "name": "python",
   "nbconvert_exporter": "python",
   "pygments_lexer": "ipython3",
   "version": "3.12.2"
  }
 },
 "nbformat": 4,
 "nbformat_minor": 2
}
