{
 "cells": [
  {
   "cell_type": "markdown",
   "metadata": {},
   "source": [
    "## Data manipulation"
   ]
  },
  {
   "cell_type": "code",
   "execution_count": 78,
   "metadata": {},
   "outputs": [],
   "source": [
    "import pandas as pd"
   ]
  },
  {
   "cell_type": "code",
   "execution_count": 79,
   "metadata": {},
   "outputs": [],
   "source": [
    "data = pd.read_csv(r'estat_crim_off_cat.tsv', sep='\\t')"
   ]
  },
  {
   "cell_type": "code",
   "execution_count": 80,
   "metadata": {},
   "outputs": [],
   "source": [
    "data = data.rename({data.columns[0]: data.columns[0].replace(r\"\\TIME_PERIOD\", \"\")}, axis=\"columns\")\n",
    "split_name_columns = (data.columns[0]).split(',')\n",
    "count_split_columns = len(split_name_columns)\n",
    "# assert?"
   ]
  },
  {
   "cell_type": "markdown",
   "metadata": {},
   "source": [
    "Pokud by se dělalo zpracovávání souboru v rámci OOP, kod by neměl zahrnovat mergování "
   ]
  },
  {
   "cell_type": "code",
   "execution_count": 81,
   "metadata": {},
   "outputs": [],
   "source": [
    "data[split_name_columns] = data[data.columns[0]].str.split(',', expand=True)\n",
    "data = data.drop(data.columns[0], axis=\"columns\") #odstraneni jiz rozdeleneho sloupce\n",
    "\n",
    "%run add_info.ipynb\n",
    "data = data.merge(geo_df, how='left', on='geo')\n",
    "data = data.merge(iccs_df, how='left', on='iccs')\n",
    "data = data.drop(columns=['geo', 'iccs'])\n"
   ]
  },
  {
   "cell_type": "code",
   "execution_count": 82,
   "metadata": {},
   "outputs": [],
   "source": [
    "# presun rozdelenych a naparovaných udaju  na zacatek df\n",
    "reorg_columns = data.columns.tolist()\n",
    "final_reorg_columns = reorg_columns[-count_split_columns:] + reorg_columns[:-count_split_columns]\n",
    "data = data[final_reorg_columns]"
   ]
  },
  {
   "cell_type": "markdown",
   "metadata": {},
   "source": [
    "Pokud by se dělalo zpracovávání souboru v rámci OOP, je možné, že k číslum budou přiřazeny písmena jako 'b' a 'd'. Tato data by bylo nutné dále prozkoumat, potažmo je úplně vyřadit z datasetu. "
   ]
  },
  {
   "cell_type": "code",
   "execution_count": 83,
   "metadata": {},
   "outputs": [],
   "source": [
    "data = data.replace(\": \", 'NaN')\n",
    "\n",
    "column_period = data.columns[count_split_columns:] \n",
    "data[column_period] = data[data.columns[count_split_columns:]].astype('float')"
   ]
  },
  {
   "cell_type": "code",
   "execution_count": 84,
   "metadata": {},
   "outputs": [],
   "source": [
    "no_anual = data[data['freq'] != 'A'].index # podminka, ze se nejedna o rocni data\n",
    "data.drop(index=no_anual, inplace=True)\n",
    "\n",
    "no_p_hthab = data[data['unit'] != 'P_HTHAB'].index # podminka, ze se nejedna o udaj na 100tis obyvatel\n",
    "data.drop(index=no_p_hthab, inplace=True)"
   ]
  },
  {
   "cell_type": "code",
   "execution_count": 85,
   "metadata": {},
   "outputs": [],
   "source": [
    "years_list = data.columns[count_split_columns:]\n",
    "info_list = data.columns[:count_split_columns]"
   ]
  },
  {
   "cell_type": "code",
   "execution_count": 86,
   "metadata": {},
   "outputs": [
    {
     "data": {
      "text/html": [
       "<div>\n",
       "<style scoped>\n",
       "    .dataframe tbody tr th:only-of-type {\n",
       "        vertical-align: middle;\n",
       "    }\n",
       "\n",
       "    .dataframe tbody tr th {\n",
       "        vertical-align: top;\n",
       "    }\n",
       "\n",
       "    .dataframe thead th {\n",
       "        text-align: right;\n",
       "    }\n",
       "</style>\n",
       "<table border=\"1\" class=\"dataframe\">\n",
       "  <thead>\n",
       "    <tr style=\"text-align: right;\">\n",
       "      <th></th>\n",
       "      <th>freq</th>\n",
       "      <th>unit</th>\n",
       "      <th>country_name</th>\n",
       "      <th>crime_info</th>\n",
       "      <th>year</th>\n",
       "      <th>value</th>\n",
       "    </tr>\n",
       "  </thead>\n",
       "  <tbody>\n",
       "    <tr>\n",
       "      <th>0</th>\n",
       "      <td>A</td>\n",
       "      <td>P_HTHAB</td>\n",
       "      <td>Albania</td>\n",
       "      <td>Intentional homicide</td>\n",
       "      <td>2008</td>\n",
       "      <td>2.78</td>\n",
       "    </tr>\n",
       "    <tr>\n",
       "      <th>1</th>\n",
       "      <td>A</td>\n",
       "      <td>P_HTHAB</td>\n",
       "      <td>Austria</td>\n",
       "      <td>Intentional homicide</td>\n",
       "      <td>2008</td>\n",
       "      <td>0.70</td>\n",
       "    </tr>\n",
       "    <tr>\n",
       "      <th>2</th>\n",
       "      <td>A</td>\n",
       "      <td>P_HTHAB</td>\n",
       "      <td>Bosnia and Herzegovina</td>\n",
       "      <td>Intentional homicide</td>\n",
       "      <td>2008</td>\n",
       "      <td>1.72</td>\n",
       "    </tr>\n",
       "    <tr>\n",
       "      <th>3</th>\n",
       "      <td>A</td>\n",
       "      <td>P_HTHAB</td>\n",
       "      <td>Belgium</td>\n",
       "      <td>Intentional homicide</td>\n",
       "      <td>2008</td>\n",
       "      <td>1.91</td>\n",
       "    </tr>\n",
       "    <tr>\n",
       "      <th>4</th>\n",
       "      <td>A</td>\n",
       "      <td>P_HTHAB</td>\n",
       "      <td>Bulgaria</td>\n",
       "      <td>Intentional homicide</td>\n",
       "      <td>2008</td>\n",
       "      <td>2.29</td>\n",
       "    </tr>\n",
       "    <tr>\n",
       "      <th>...</th>\n",
       "      <td>...</td>\n",
       "      <td>...</td>\n",
       "      <td>...</td>\n",
       "      <td>...</td>\n",
       "      <td>...</td>\n",
       "      <td>...</td>\n",
       "    </tr>\n",
       "    <tr>\n",
       "      <th>11605</th>\n",
       "      <td>A</td>\n",
       "      <td>P_HTHAB</td>\n",
       "      <td>Serbia</td>\n",
       "      <td>Participation in an organized criminal group</td>\n",
       "      <td>2022</td>\n",
       "      <td>NaN</td>\n",
       "    </tr>\n",
       "    <tr>\n",
       "      <th>11606</th>\n",
       "      <td>A</td>\n",
       "      <td>P_HTHAB</td>\n",
       "      <td>Slovenia</td>\n",
       "      <td>Participation in an organized criminal group</td>\n",
       "      <td>2022</td>\n",
       "      <td>0.00</td>\n",
       "    </tr>\n",
       "    <tr>\n",
       "      <th>11607</th>\n",
       "      <td>A</td>\n",
       "      <td>P_HTHAB</td>\n",
       "      <td>Slovakia</td>\n",
       "      <td>Participation in an organized criminal group</td>\n",
       "      <td>2022</td>\n",
       "      <td>0.15</td>\n",
       "    </tr>\n",
       "    <tr>\n",
       "      <th>11608</th>\n",
       "      <td>A</td>\n",
       "      <td>P_HTHAB</td>\n",
       "      <td>Türkiye</td>\n",
       "      <td>Participation in an organized criminal group</td>\n",
       "      <td>2022</td>\n",
       "      <td>NaN</td>\n",
       "    </tr>\n",
       "    <tr>\n",
       "      <th>11609</th>\n",
       "      <td>A</td>\n",
       "      <td>P_HTHAB</td>\n",
       "      <td>Kosovo*</td>\n",
       "      <td>Participation in an organized criminal group</td>\n",
       "      <td>2022</td>\n",
       "      <td>NaN</td>\n",
       "    </tr>\n",
       "  </tbody>\n",
       "</table>\n",
       "<p>11610 rows × 6 columns</p>\n",
       "</div>"
      ],
      "text/plain": [
       "      freq     unit            country_name  \\\n",
       "0        A  P_HTHAB                 Albania   \n",
       "1        A  P_HTHAB                 Austria   \n",
       "2        A  P_HTHAB  Bosnia and Herzegovina   \n",
       "3        A  P_HTHAB                 Belgium   \n",
       "4        A  P_HTHAB                Bulgaria   \n",
       "...    ...      ...                     ...   \n",
       "11605    A  P_HTHAB                  Serbia   \n",
       "11606    A  P_HTHAB                Slovenia   \n",
       "11607    A  P_HTHAB                Slovakia   \n",
       "11608    A  P_HTHAB                 Türkiye   \n",
       "11609    A  P_HTHAB                 Kosovo*   \n",
       "\n",
       "                                         crime_info  year  value  \n",
       "0                              Intentional homicide  2008   2.78  \n",
       "1                              Intentional homicide  2008   0.70  \n",
       "2                              Intentional homicide  2008   1.72  \n",
       "3                              Intentional homicide  2008   1.91  \n",
       "4                              Intentional homicide  2008   2.29  \n",
       "...                                             ...   ...    ...  \n",
       "11605  Participation in an organized criminal group  2022    NaN  \n",
       "11606  Participation in an organized criminal group  2022   0.00  \n",
       "11607  Participation in an organized criminal group  2022   0.15  \n",
       "11608  Participation in an organized criminal group  2022    NaN  \n",
       "11609  Participation in an organized criminal group  2022    NaN  \n",
       "\n",
       "[11610 rows x 6 columns]"
      ]
     },
     "execution_count": 86,
     "metadata": {},
     "output_type": "execute_result"
    }
   ],
   "source": [
    "unpivot_data = pd.melt(data, id_vars=info_list, value_vars=years_list, var_name='year', value_name='value')\n",
    "unpivot_data['year'] = unpivot_data['year'].astype('int')\n",
    "unpivot_data"
   ]
  },
  {
   "cell_type": "markdown",
   "metadata": {},
   "source": [
    "## Data visualisation"
   ]
  },
  {
   "cell_type": "code",
   "execution_count": 87,
   "metadata": {},
   "outputs": [],
   "source": [
    "import matplotlib.pyplot as plt\n",
    "import ipywidgets as widgets\n",
    "from IPython.display import display\n",
    "%run custom_function.ipynb # widgety nelze spoustet ze souboru .py?, pouze z ipynb, dostatz widget hodnoy je pak složitější a delší, než napsatkod přímo? - overit"
   ]
  },
  {
   "cell_type": "code",
   "execution_count": 89,
   "metadata": {},
   "outputs": [],
   "source": [
    "# jedinečné názvy států a krimi činů, slouží k následnému filtrování \n",
    "country_list_sorted = sorted(list(set(unpivot_data['country_name'].tolist())))\n",
    "crime_list_sorted = sorted(list(set(unpivot_data['crime_info'].tolist())))\n"
   ]
  },
  {
   "cell_type": "code",
   "execution_count": 71,
   "metadata": {},
   "outputs": [
    {
     "data": {
      "application/vnd.jupyter.widget-view+json": {
       "model_id": "90623a9e8e0a47368bd0e999e9da7406",
       "version_major": 2,
       "version_minor": 0
      },
      "text/plain": [
       "Dropdown(description='Country:', options=('Albania', 'Austria', 'Belgium', 'Bosnia and Herzegovina', 'Bulgaria…"
      ]
     },
     "metadata": {},
     "output_type": "display_data"
    },
    {
     "data": {
      "application/vnd.jupyter.widget-view+json": {
       "model_id": "f09aae3824fd40ecadf0d626bfe5d6d5",
       "version_major": 2,
       "version_minor": 0
      },
      "text/plain": [
       "Dropdown(description='Crime:', options=('Acts against computer systems', 'Attempted intentional homicide', 'Br…"
      ]
     },
     "metadata": {},
     "output_type": "display_data"
    }
   ],
   "source": [
    "country = widgets.Dropdown(\n",
    "    options=country_list_sorted,\n",
    "    value=country_list_sorted[0],\n",
    "    description='Country:',\n",
    "    disabled=False,\n",
    "    )\n",
    "crime = widgets.Dropdown(\n",
    "    options=crime_list_sorted,\n",
    "    value=crime_list_sorted[0],\n",
    "    description='Crime:',\n",
    "    disabled=False,\n",
    "    )\n",
    "display(country)\n",
    "display(crime)"
   ]
  },
  {
   "cell_type": "code",
   "execution_count": 72,
   "metadata": {},
   "outputs": [
    {
     "data": {
      "text/html": [
       "<div>\n",
       "<style scoped>\n",
       "    .dataframe tbody tr th:only-of-type {\n",
       "        vertical-align: middle;\n",
       "    }\n",
       "\n",
       "    .dataframe tbody tr th {\n",
       "        vertical-align: top;\n",
       "    }\n",
       "\n",
       "    .dataframe thead th {\n",
       "        text-align: right;\n",
       "    }\n",
       "</style>\n",
       "<table border=\"1\" class=\"dataframe\">\n",
       "  <thead>\n",
       "    <tr style=\"text-align: right;\">\n",
       "      <th></th>\n",
       "      <th>freq</th>\n",
       "      <th>unit</th>\n",
       "      <th>country_name</th>\n",
       "      <th>crime_info</th>\n",
       "      <th>year</th>\n",
       "      <th>value</th>\n",
       "    </tr>\n",
       "  </thead>\n",
       "  <tbody>\n",
       "    <tr>\n",
       "      <th>585</th>\n",
       "      <td>A</td>\n",
       "      <td>P_HTHAB</td>\n",
       "      <td>Czechia</td>\n",
       "      <td>Fraud</td>\n",
       "      <td>2008</td>\n",
       "      <td>NaN</td>\n",
       "    </tr>\n",
       "    <tr>\n",
       "      <th>1359</th>\n",
       "      <td>A</td>\n",
       "      <td>P_HTHAB</td>\n",
       "      <td>Czechia</td>\n",
       "      <td>Fraud</td>\n",
       "      <td>2009</td>\n",
       "      <td>NaN</td>\n",
       "    </tr>\n",
       "    <tr>\n",
       "      <th>2133</th>\n",
       "      <td>A</td>\n",
       "      <td>P_HTHAB</td>\n",
       "      <td>Czechia</td>\n",
       "      <td>Fraud</td>\n",
       "      <td>2010</td>\n",
       "      <td>NaN</td>\n",
       "    </tr>\n",
       "    <tr>\n",
       "      <th>2907</th>\n",
       "      <td>A</td>\n",
       "      <td>P_HTHAB</td>\n",
       "      <td>Czechia</td>\n",
       "      <td>Fraud</td>\n",
       "      <td>2011</td>\n",
       "      <td>NaN</td>\n",
       "    </tr>\n",
       "    <tr>\n",
       "      <th>3681</th>\n",
       "      <td>A</td>\n",
       "      <td>P_HTHAB</td>\n",
       "      <td>Czechia</td>\n",
       "      <td>Fraud</td>\n",
       "      <td>2012</td>\n",
       "      <td>NaN</td>\n",
       "    </tr>\n",
       "    <tr>\n",
       "      <th>4455</th>\n",
       "      <td>A</td>\n",
       "      <td>P_HTHAB</td>\n",
       "      <td>Czechia</td>\n",
       "      <td>Fraud</td>\n",
       "      <td>2013</td>\n",
       "      <td>NaN</td>\n",
       "    </tr>\n",
       "    <tr>\n",
       "      <th>5229</th>\n",
       "      <td>A</td>\n",
       "      <td>P_HTHAB</td>\n",
       "      <td>Czechia</td>\n",
       "      <td>Fraud</td>\n",
       "      <td>2014</td>\n",
       "      <td>NaN</td>\n",
       "    </tr>\n",
       "    <tr>\n",
       "      <th>6003</th>\n",
       "      <td>A</td>\n",
       "      <td>P_HTHAB</td>\n",
       "      <td>Czechia</td>\n",
       "      <td>Fraud</td>\n",
       "      <td>2015</td>\n",
       "      <td>NaN</td>\n",
       "    </tr>\n",
       "    <tr>\n",
       "      <th>6777</th>\n",
       "      <td>A</td>\n",
       "      <td>P_HTHAB</td>\n",
       "      <td>Czechia</td>\n",
       "      <td>Fraud</td>\n",
       "      <td>2016</td>\n",
       "      <td>93.20</td>\n",
       "    </tr>\n",
       "    <tr>\n",
       "      <th>7551</th>\n",
       "      <td>A</td>\n",
       "      <td>P_HTHAB</td>\n",
       "      <td>Czechia</td>\n",
       "      <td>Fraud</td>\n",
       "      <td>2017</td>\n",
       "      <td>82.73</td>\n",
       "    </tr>\n",
       "    <tr>\n",
       "      <th>8325</th>\n",
       "      <td>A</td>\n",
       "      <td>P_HTHAB</td>\n",
       "      <td>Czechia</td>\n",
       "      <td>Fraud</td>\n",
       "      <td>2018</td>\n",
       "      <td>79.63</td>\n",
       "    </tr>\n",
       "    <tr>\n",
       "      <th>9099</th>\n",
       "      <td>A</td>\n",
       "      <td>P_HTHAB</td>\n",
       "      <td>Czechia</td>\n",
       "      <td>Fraud</td>\n",
       "      <td>2019</td>\n",
       "      <td>86.19</td>\n",
       "    </tr>\n",
       "    <tr>\n",
       "      <th>9873</th>\n",
       "      <td>A</td>\n",
       "      <td>P_HTHAB</td>\n",
       "      <td>Czechia</td>\n",
       "      <td>Fraud</td>\n",
       "      <td>2020</td>\n",
       "      <td>74.36</td>\n",
       "    </tr>\n",
       "    <tr>\n",
       "      <th>10647</th>\n",
       "      <td>A</td>\n",
       "      <td>P_HTHAB</td>\n",
       "      <td>Czechia</td>\n",
       "      <td>Fraud</td>\n",
       "      <td>2021</td>\n",
       "      <td>111.63</td>\n",
       "    </tr>\n",
       "    <tr>\n",
       "      <th>11421</th>\n",
       "      <td>A</td>\n",
       "      <td>P_HTHAB</td>\n",
       "      <td>Czechia</td>\n",
       "      <td>Fraud</td>\n",
       "      <td>2022</td>\n",
       "      <td>153.09</td>\n",
       "    </tr>\n",
       "  </tbody>\n",
       "</table>\n",
       "</div>"
      ],
      "text/plain": [
       "      freq     unit country_name crime_info  year   value\n",
       "585      A  P_HTHAB      Czechia      Fraud  2008     NaN\n",
       "1359     A  P_HTHAB      Czechia      Fraud  2009     NaN\n",
       "2133     A  P_HTHAB      Czechia      Fraud  2010     NaN\n",
       "2907     A  P_HTHAB      Czechia      Fraud  2011     NaN\n",
       "3681     A  P_HTHAB      Czechia      Fraud  2012     NaN\n",
       "4455     A  P_HTHAB      Czechia      Fraud  2013     NaN\n",
       "5229     A  P_HTHAB      Czechia      Fraud  2014     NaN\n",
       "6003     A  P_HTHAB      Czechia      Fraud  2015     NaN\n",
       "6777     A  P_HTHAB      Czechia      Fraud  2016   93.20\n",
       "7551     A  P_HTHAB      Czechia      Fraud  2017   82.73\n",
       "8325     A  P_HTHAB      Czechia      Fraud  2018   79.63\n",
       "9099     A  P_HTHAB      Czechia      Fraud  2019   86.19\n",
       "9873     A  P_HTHAB      Czechia      Fraud  2020   74.36\n",
       "10647    A  P_HTHAB      Czechia      Fraud  2021  111.63\n",
       "11421    A  P_HTHAB      Czechia      Fraud  2022  153.09"
      ]
     },
     "execution_count": 72,
     "metadata": {},
     "output_type": "execute_result"
    }
   ],
   "source": [
    "select_country = country.value\n",
    "select_crime = crime.value\n",
    "\n",
    "unpivot_data[(unpivot_data['country_name'] == select_country) & (unpivot_data['crime_info'] == select_crime)]"
   ]
  },
  {
   "cell_type": "code",
   "execution_count": 73,
   "metadata": {},
   "outputs": [],
   "source": [
    "import numpy"
   ]
  },
  {
   "cell_type": "code",
   "execution_count": null,
   "metadata": {},
   "outputs": [],
   "source": [
    "def get_info_country_crime(unpivot_data, select_country, select_crime):\n",
    "    data = unpivot_data[(unpivot_data['country_name'] == select_country) & (unpivot_data['crime_info'] == select_crime)]\n",
    "    value_column = data['value']\n",
    "\n",
    "    count_years = data['year'].count()\n",
    "    count_fill_values = value_column.count()\n",
    "    count_unfill_values = count_years - count_fill_values\n",
    "    \n",
    "    mean_value = round(value_column.mean(), 2)\n",
    "\n",
    "    max_value_row = data.loc[data['value'].idxmax()]\n",
    "    min_value_row = data.loc[data['value'].idxmin()]\n",
    "\n",
    "    max_value, max_value_year = max_value_row[['value', 'year']]\n",
    "    min_value, min_value_year = min_value_row[['value', 'year']]\n",
    "\n",
    "    min_range_year = data['year'].min()\n",
    "    max_range_year = data['year'].max()\n",
    "\n",
    "    standard_deviation = round(numpy.std(value_column), 2) #použita populační směrodatná odchylka, ddof=1 ->nastavení na výběrovou směrodatnou odchylku\n",
    "\n",
    "    # přidat dodatečné  informace o směrodané odchylně\n",
    "    # přidat info o násobku z min -> max aj\n",
    "    # od jakého roku začal stát poskytovat/sbírat data - zmenit automaticky range ve widgete\n",
    "    info = f'During a {count_years}-year period, {select_country} recorded {count_fill_values} entries for {select_crime} types of crime. Across these years, there were an average of {mean_value} crimes per hundred thousand inhabitants each year, but standard deviation was {standard_deviation}. The minimum recorded crime rate per hundred thousand inhabitants was {min_value} in {min_value_year}, while the maximum was {max_value} in {max_value_year}.'  \n",
    "\n",
    "    return info, data, min_range_year, max_range_year\n",
    "    \n",
    "\n",
    "\n",
    "def get_info_country_allcrimes(data, select_country):\n",
    "    pass\n",
    "\n",
    "def get_info_all_crimes(data, select_crime):\n",
    "    pass\n",
    "\n",
    "def get_info_crime(unpivot_data, select_crime):\n",
    "    pass"
   ]
  },
  {
   "cell_type": "code",
   "execution_count": 88,
   "metadata": {},
   "outputs": [
    {
     "data": {
      "text/plain": [
       "'During a 15-year period, Czechia recorded 7 entries for Fraud types of crime. Across these years, there were an average of 97.26 crimes per hundred thousand inhabitants each year, but standard deviation was 25.38. The minimum recorded crime rate per hundred thousand inhabitants was 74.36 in 2020, while the maximum was 153.09 in 2022.'"
      ]
     },
     "execution_count": 88,
     "metadata": {},
     "output_type": "execute_result"
    }
   ],
   "source": [
    "info, filtered_data, min_range_year, max_range_year = get_info_country_crime(unpivot_data, select_country, select_crime)\n",
    "info"
   ]
  },
  {
   "cell_type": "code",
   "execution_count": 89,
   "metadata": {},
   "outputs": [],
   "source": [
    "# unpivot_data[unpivot_data['country_name'] == select_country]"
   ]
  },
  {
   "cell_type": "code",
   "execution_count": 83,
   "metadata": {},
   "outputs": [
    {
     "data": {
      "text/html": [
       "<div>\n",
       "<style scoped>\n",
       "    .dataframe tbody tr th:only-of-type {\n",
       "        vertical-align: middle;\n",
       "    }\n",
       "\n",
       "    .dataframe tbody tr th {\n",
       "        vertical-align: top;\n",
       "    }\n",
       "\n",
       "    .dataframe thead th {\n",
       "        text-align: right;\n",
       "    }\n",
       "</style>\n",
       "<table border=\"1\" class=\"dataframe\">\n",
       "  <thead>\n",
       "    <tr style=\"text-align: right;\">\n",
       "      <th></th>\n",
       "      <th>freq</th>\n",
       "      <th>unit</th>\n",
       "      <th>country_name</th>\n",
       "      <th>crime_info</th>\n",
       "      <th>year</th>\n",
       "      <th>value</th>\n",
       "    </tr>\n",
       "  </thead>\n",
       "  <tbody>\n",
       "    <tr>\n",
       "      <th>585</th>\n",
       "      <td>A</td>\n",
       "      <td>P_HTHAB</td>\n",
       "      <td>Czechia</td>\n",
       "      <td>Fraud</td>\n",
       "      <td>2008</td>\n",
       "      <td>NaN</td>\n",
       "    </tr>\n",
       "    <tr>\n",
       "      <th>1359</th>\n",
       "      <td>A</td>\n",
       "      <td>P_HTHAB</td>\n",
       "      <td>Czechia</td>\n",
       "      <td>Fraud</td>\n",
       "      <td>2009</td>\n",
       "      <td>NaN</td>\n",
       "    </tr>\n",
       "    <tr>\n",
       "      <th>2133</th>\n",
       "      <td>A</td>\n",
       "      <td>P_HTHAB</td>\n",
       "      <td>Czechia</td>\n",
       "      <td>Fraud</td>\n",
       "      <td>2010</td>\n",
       "      <td>NaN</td>\n",
       "    </tr>\n",
       "    <tr>\n",
       "      <th>2907</th>\n",
       "      <td>A</td>\n",
       "      <td>P_HTHAB</td>\n",
       "      <td>Czechia</td>\n",
       "      <td>Fraud</td>\n",
       "      <td>2011</td>\n",
       "      <td>NaN</td>\n",
       "    </tr>\n",
       "    <tr>\n",
       "      <th>3681</th>\n",
       "      <td>A</td>\n",
       "      <td>P_HTHAB</td>\n",
       "      <td>Czechia</td>\n",
       "      <td>Fraud</td>\n",
       "      <td>2012</td>\n",
       "      <td>NaN</td>\n",
       "    </tr>\n",
       "    <tr>\n",
       "      <th>4455</th>\n",
       "      <td>A</td>\n",
       "      <td>P_HTHAB</td>\n",
       "      <td>Czechia</td>\n",
       "      <td>Fraud</td>\n",
       "      <td>2013</td>\n",
       "      <td>NaN</td>\n",
       "    </tr>\n",
       "    <tr>\n",
       "      <th>5229</th>\n",
       "      <td>A</td>\n",
       "      <td>P_HTHAB</td>\n",
       "      <td>Czechia</td>\n",
       "      <td>Fraud</td>\n",
       "      <td>2014</td>\n",
       "      <td>NaN</td>\n",
       "    </tr>\n",
       "    <tr>\n",
       "      <th>6003</th>\n",
       "      <td>A</td>\n",
       "      <td>P_HTHAB</td>\n",
       "      <td>Czechia</td>\n",
       "      <td>Fraud</td>\n",
       "      <td>2015</td>\n",
       "      <td>NaN</td>\n",
       "    </tr>\n",
       "    <tr>\n",
       "      <th>6777</th>\n",
       "      <td>A</td>\n",
       "      <td>P_HTHAB</td>\n",
       "      <td>Czechia</td>\n",
       "      <td>Fraud</td>\n",
       "      <td>2016</td>\n",
       "      <td>93.20</td>\n",
       "    </tr>\n",
       "    <tr>\n",
       "      <th>7551</th>\n",
       "      <td>A</td>\n",
       "      <td>P_HTHAB</td>\n",
       "      <td>Czechia</td>\n",
       "      <td>Fraud</td>\n",
       "      <td>2017</td>\n",
       "      <td>82.73</td>\n",
       "    </tr>\n",
       "    <tr>\n",
       "      <th>8325</th>\n",
       "      <td>A</td>\n",
       "      <td>P_HTHAB</td>\n",
       "      <td>Czechia</td>\n",
       "      <td>Fraud</td>\n",
       "      <td>2018</td>\n",
       "      <td>79.63</td>\n",
       "    </tr>\n",
       "    <tr>\n",
       "      <th>9099</th>\n",
       "      <td>A</td>\n",
       "      <td>P_HTHAB</td>\n",
       "      <td>Czechia</td>\n",
       "      <td>Fraud</td>\n",
       "      <td>2019</td>\n",
       "      <td>86.19</td>\n",
       "    </tr>\n",
       "    <tr>\n",
       "      <th>9873</th>\n",
       "      <td>A</td>\n",
       "      <td>P_HTHAB</td>\n",
       "      <td>Czechia</td>\n",
       "      <td>Fraud</td>\n",
       "      <td>2020</td>\n",
       "      <td>74.36</td>\n",
       "    </tr>\n",
       "    <tr>\n",
       "      <th>10647</th>\n",
       "      <td>A</td>\n",
       "      <td>P_HTHAB</td>\n",
       "      <td>Czechia</td>\n",
       "      <td>Fraud</td>\n",
       "      <td>2021</td>\n",
       "      <td>111.63</td>\n",
       "    </tr>\n",
       "    <tr>\n",
       "      <th>11421</th>\n",
       "      <td>A</td>\n",
       "      <td>P_HTHAB</td>\n",
       "      <td>Czechia</td>\n",
       "      <td>Fraud</td>\n",
       "      <td>2022</td>\n",
       "      <td>153.09</td>\n",
       "    </tr>\n",
       "  </tbody>\n",
       "</table>\n",
       "</div>"
      ],
      "text/plain": [
       "      freq     unit country_name crime_info  year   value\n",
       "585      A  P_HTHAB      Czechia      Fraud  2008     NaN\n",
       "1359     A  P_HTHAB      Czechia      Fraud  2009     NaN\n",
       "2133     A  P_HTHAB      Czechia      Fraud  2010     NaN\n",
       "2907     A  P_HTHAB      Czechia      Fraud  2011     NaN\n",
       "3681     A  P_HTHAB      Czechia      Fraud  2012     NaN\n",
       "4455     A  P_HTHAB      Czechia      Fraud  2013     NaN\n",
       "5229     A  P_HTHAB      Czechia      Fraud  2014     NaN\n",
       "6003     A  P_HTHAB      Czechia      Fraud  2015     NaN\n",
       "6777     A  P_HTHAB      Czechia      Fraud  2016   93.20\n",
       "7551     A  P_HTHAB      Czechia      Fraud  2017   82.73\n",
       "8325     A  P_HTHAB      Czechia      Fraud  2018   79.63\n",
       "9099     A  P_HTHAB      Czechia      Fraud  2019   86.19\n",
       "9873     A  P_HTHAB      Czechia      Fraud  2020   74.36\n",
       "10647    A  P_HTHAB      Czechia      Fraud  2021  111.63\n",
       "11421    A  P_HTHAB      Czechia      Fraud  2022  153.09"
      ]
     },
     "execution_count": 83,
     "metadata": {},
     "output_type": "execute_result"
    }
   ],
   "source": [
    "a = unpivot_data[(unpivot_data['country_name'] == select_country) & (unpivot_data['crime_info'] == select_crime)]\n",
    "round(a['value'].mean(), 2)\n",
    "a['value'].max()\n",
    "a\n",
    "max_value_row = a.loc[a['value'].idxmax()]\n",
    "# max_year, max_value = max_value_row[['year', 'value']]\n",
    "# x_std = numpy.std(a['value'])\n",
    "# a.describe()\n",
    "max_value_row\n",
    "a"
   ]
  },
  {
   "cell_type": "code",
   "execution_count": 81,
   "metadata": {},
   "outputs": [],
   "source": [
    "# crime_all = unpivot_data[unpivot_data['crime_info'] == 'Rape']\n",
    "# crime_all"
   ]
  },
  {
   "cell_type": "code",
   "execution_count": 28,
   "metadata": {},
   "outputs": [],
   "source": [
    "# TODO: propojit widgetu s grafem, aby byl rovnou interaktivní, pozor na dublo, trublo grafů"
   ]
  },
  {
   "cell_type": "code",
   "execution_count": 90,
   "metadata": {},
   "outputs": [
    {
     "data": {
      "application/vnd.jupyter.widget-view+json": {
       "model_id": "32f10a1c3540436ab4b02a39612cc3e8",
       "version_major": 2,
       "version_minor": 0
      },
      "text/plain": [
       "IntRangeSlider(value=(2008, 2022), continuous_update=False, description='Years:', max=2022, min=2008)"
      ]
     },
     "execution_count": 90,
     "metadata": {},
     "output_type": "execute_result"
    }
   ],
   "source": [
    "years_range = widgets.IntRangeSlider(\n",
    "    value=[min_range_year, max_range_year],\n",
    "    min=min_range_year,\n",
    "    max=max_range_year,\n",
    "    step=1,\n",
    "    description='Years:',\n",
    "    disabled=False,\n",
    "    continuous_update=False,\n",
    "    orientation='horizontal',\n",
    "    readout=True,   \n",
    "    readout_format='d',\n",
    "\n",
    ")\n",
    "years_range"
   ]
  },
  {
   "cell_type": "code",
   "execution_count": 91,
   "metadata": {},
   "outputs": [
    {
     "data": {
      "image/png": "[encoded data removed]",
      "text/plain": [
       "<Figure size 1000x600 with 1 Axes>"
      ]
     },
     "metadata": {},
     "output_type": "display_data"
    }
   ],
   "source": [
    "start_year, end_year = years_range.value\n",
    "plt.figure(figsize=(10, 6))\n",
    "plt.plot(filtered_data['year'], filtered_data['value'], marker='o')\n",
    "plt.title(f\"Time Series for {country.value} and crime: {crime.value}\")\n",
    "plt.xlabel(\"Year\")\n",
    "plt.ylabel(\"Value\")\n",
    "plt.grid(True)\n",
    "plt.xlim(start_year, end_year)\n",
    "plt.xticks(range(start_year, end_year + 1, 1))\n",
    "plt.show()"
   ]
  },
  {
   "cell_type": "code",
   "execution_count": 31,
   "metadata": {},
   "outputs": [
    {
     "data": {
      "image/png": "[encoded data removed]",
      "text/plain": [
       "<Figure size 1000x600 with 1 Axes>"
      ]
     },
     "metadata": {},
     "output_type": "display_data"
    }
   ],
   "source": [
    "import matplotlib.pyplot as plt\n",
    "import seaborn as sns\n",
    "import pandas as pd\n",
    "\n",
    "# Předpokládejme, že filtered_data je již definováno jako DataFrame\n",
    "# Příklad: filtered_data = pd.DataFrame({'value': [1.5, 2.3, 2.5, 3.7, 4.1, ...]})\n",
    "\n",
    "# Vytvoření boxplotu pro 'value'\n",
    "plt.figure(figsize=(10, 6))\n",
    "sns.boxplot(y='value', data=filtered_data)\n",
    "\n",
    "# Přidání názvů a popisků\n",
    "plt.title('Boxplot hodnot')\n",
    "plt.ylabel('Hodnota')\n",
    "\n",
    "# Zobrazení grafu\n",
    "plt.show()"
   ]
  },
  {
   "cell_type": "code",
   "execution_count": 42,
   "metadata": {},
   "outputs": [
    {
     "data": {
      "image/png": "[encoded data removed]",
      "text/plain": [
       "<Figure size 1000x600 with 1 Axes>"
      ]
     },
     "metadata": {},
     "output_type": "display_data"
    }
   ],
   "source": [
    "mean_value = round(filtered_data['value'].mean(), 2)\n",
    "\n",
    "# Vytvoření histogramu pro 'value'\n",
    "plt.figure(figsize=(10, 6))\n",
    "sns.histplot(filtered_data['value'], bins=20, kde=True)\n",
    "\n",
    "# Přidání názvů a popisků\n",
    "plt.title('Histogram hodnot')\n",
    "plt.xlabel('Hodnota')\n",
    "plt.ylabel('Frekvence')\n",
    "plt.axvline(mean_value, color = 'red', linestyle='dashed', linewidth=1)\n",
    "plt.text(mean_value, plt.ylim()[1]*0.9, f'Mean: {mean_value:.2f}', color = 'red')\n",
    "\n",
    "# Zobrazení grafu\n",
    "plt.show()"
   ]
  },
  {
   "cell_type": "code",
   "execution_count": null,
   "metadata": {},
   "outputs": [],
   "source": []
  }
 ],
 "metadata": {
  "kernelspec": {
   "display_name": "crime_EU_venv",
   "language": "python",
   "name": "python3"
  },
  "language_info": {
   "codemirror_mode": {
    "name": "ipython",
    "version": 3
   },
   "file_extension": ".py",
   "mimetype": "text/x-python",
   "name": "python",
   "nbconvert_exporter": "python",
   "pygments_lexer": "ipython3",
   "version": "3.12.2"
  }
 },
 "nbformat": 4,
 "nbformat_minor": 2
}
