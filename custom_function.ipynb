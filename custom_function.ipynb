{
 "cells": [
  {
   "cell_type": "code",
   "execution_count": null,
   "metadata": {},
   "outputs": [],
   "source": [
    "import ipywidgets as widgets\n",
    "from IPython.display import display\n"
   ]
  },
  {
   "cell_type": "code",
   "execution_count": null,
   "metadata": {},
   "outputs": [],
   "source": [
    "def get_widget_country(country_list, country_name_default):\n",
    "    widgets_output = widgets.Dropdown(\n",
    "                    options=country_list,\n",
    "                    value=country_name_default,\n",
    "                    description='Country:',\n",
    "                    disabled=False,\n",
    "                    )\n",
    "    return widgets_output"
   ]
  },
  {
   "cell_type": "code",
   "execution_count": 3,
   "metadata": {},
   "outputs": [],
   "source": [
    "def get_widget_crime(crime_list, crime_name_default):\n",
    "    widgets_output = display(widgets.Dropdown(\n",
    "                    options=crime_list,\n",
    "                    value=crime_name_default,\n",
    "                    description='Crime:',\n",
    "                    disabled=False,\n",
    "                    ))\n",
    "\n",
    "    return widgets_output"
   ]
  },
  {
   "cell_type": "code",
   "execution_count": null,
   "metadata": {},
   "outputs": [],
   "source": []
  },
  {
   "cell_type": "code",
   "execution_count": null,
   "metadata": {},
   "outputs": [],
   "source": [
    "def get_filtered_data(data, filter_country, filter_crime):\n",
    "    filter_data = data[(data['country_name'] == filter_country) & (data['crime_info'] == filter_crime)]\n",
    "    filter_data_min_year = filter_data['year'].min()\n",
    "    filter_data_max_year = filter_data['year'].max()\n",
    "    return filter_data, filter_data_min_year, filter_data_max_year"
   ]
  },
  {
   "cell_type": "code",
   "execution_count": null,
   "metadata": {},
   "outputs": [],
   "source": [
    "def get_basic_filtered_info(data, country, crime):\n",
    "    count_year = data['year'].count()\n",
    "    count_fill_value = data['value'].count()\n",
    "    mean_value = round(data['value'].mean(), 2)\n",
    "    min_value = data['value'].min()\n",
    "    max_value = data['value'].max()\n",
    "    if max_value - min_value > mean_value:\n",
    "        result = f'These two values deviate significantly from the mean of {mean_value}. It’s worth examining the data in more depth.'\n",
    "    else:\n",
    "        result = f'These two values are not very far from the mean of {mean_value}.'\n",
    "\n",
    "    return f'During a {count_year}-year period, {country} recorded {count_fill_value} entries for {crime} types of crime. Across these years, there were an average of {mean_value} crimes per hundred thousand inhabitants each year. The minimum recorded crime rate per hundred thousand inhabitants was {min_value}, while the maximum was {max_value}. {result}'\n"
   ]
  }
 ],
 "metadata": {
  "kernelspec": {
   "display_name": "crime_EU_venv",
   "language": "python",
   "name": "python3"
  },
  "language_info": {
   "codemirror_mode": {
    "name": "ipython",
    "version": 3
   },
   "file_extension": ".py",
   "mimetype": "text/x-python",
   "name": "python",
   "nbconvert_exporter": "python",
   "pygments_lexer": "ipython3",
   "version": "3.12.2"
  }
 },
 "nbformat": 4,
 "nbformat_minor": 2
}
